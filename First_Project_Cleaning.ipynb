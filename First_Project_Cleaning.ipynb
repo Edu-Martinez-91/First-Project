{
 "cells": [
  {
   "cell_type": "markdown",
   "id": "d310c081",
   "metadata": {},
   "source": [
    "## <h2 style=\"color: #008080;\">Importing data</h2>"
   ]
  },
  {
   "cell_type": "code",
   "execution_count": 3,
   "id": "31cadf72-0c38-4d43-abd1-b5cf78e29a1f",
   "metadata": {},
   "outputs": [],
   "source": [
    "import pandas as pd"
   ]
  },
  {
   "cell_type": "code",
   "execution_count": 11,
   "id": "c0a9a8b4-0391-4683-a417-f764b6264830",
   "metadata": {},
   "outputs": [],
   "source": [
    "df_soccer=pd.read_csv(\"soccer_webscraped_41raw\")"
   ]
  },
  {
   "cell_type": "code",
   "execution_count": 15,
   "id": "0114993a-f53a-41e2-be43-9e06a80f1441",
   "metadata": {},
   "outputs": [],
   "source": [
    "df_basket=pd.read_csv(\"BasketBall_injury_10_years.csv\")"
   ]
  },
  {
   "cell_type": "code",
   "execution_count": 17,
   "id": "80e5d664-8b1d-4cb4-b53b-785861eb5610",
   "metadata": {},
   "outputs": [
    {
     "data": {
      "text/html": [
       "<div>\n",
       "<style scoped>\n",
       "    .dataframe tbody tr th:only-of-type {\n",
       "        vertical-align: middle;\n",
       "    }\n",
       "\n",
       "    .dataframe tbody tr th {\n",
       "        vertical-align: top;\n",
       "    }\n",
       "\n",
       "    .dataframe thead th {\n",
       "        text-align: right;\n",
       "    }\n",
       "</style>\n",
       "<table border=\"1\" class=\"dataframe\">\n",
       "  <thead>\n",
       "    <tr style=\"text-align: right;\">\n",
       "      <th></th>\n",
       "      <th>name</th>\n",
       "      <th>club</th>\n",
       "      <th>age</th>\n",
       "      <th>country</th>\n",
       "      <th>injury</th>\n",
       "      <th>since</th>\n",
       "      <th>until</th>\n",
       "      <th>value (mill. €)</th>\n",
       "    </tr>\n",
       "  </thead>\n",
       "  <tbody>\n",
       "    <tr>\n",
       "      <th>0</th>\n",
       "      <td>Chidera Ejuke</td>\n",
       "      <td>Sevilla FC</td>\n",
       "      <td>26</td>\n",
       "      <td>Nigeria</td>\n",
       "      <td>Lesión en el muslo</td>\n",
       "      <td>21/10/2024</td>\n",
       "      <td>NaN</td>\n",
       "      <td>6.0</td>\n",
       "    </tr>\n",
       "    <tr>\n",
       "      <th>1</th>\n",
       "      <td>Thibaut Courtois</td>\n",
       "      <td>Real Madrid CF</td>\n",
       "      <td>32</td>\n",
       "      <td>Bélgica</td>\n",
       "      <td>Lesión del aductor</td>\n",
       "      <td>23/10/2024</td>\n",
       "      <td>NaN</td>\n",
       "      <td>25.0</td>\n",
       "    </tr>\n",
       "    <tr>\n",
       "      <th>2</th>\n",
       "      <td>Jailson</td>\n",
       "      <td>RC Celta de Vigo</td>\n",
       "      <td>29</td>\n",
       "      <td>Brasil</td>\n",
       "      <td>Molestias en los aductores</td>\n",
       "      <td>18/10/2024</td>\n",
       "      <td>NaN</td>\n",
       "      <td>1.5</td>\n",
       "    </tr>\n",
       "    <tr>\n",
       "      <th>3</th>\n",
       "      <td>Giovani Lo Celso</td>\n",
       "      <td>Real Betis Balompié</td>\n",
       "      <td>28</td>\n",
       "      <td>Argentina</td>\n",
       "      <td>Lesión en el muslo</td>\n",
       "      <td>17/10/2024</td>\n",
       "      <td>NaN</td>\n",
       "      <td>20.0</td>\n",
       "    </tr>\n",
       "    <tr>\n",
       "      <th>4</th>\n",
       "      <td>Yaser Asprilla</td>\n",
       "      <td>Girona FC</td>\n",
       "      <td>20</td>\n",
       "      <td>Italia</td>\n",
       "      <td>Esguince de la articulación del tobillo</td>\n",
       "      <td>11/10/2024</td>\n",
       "      <td>NaN</td>\n",
       "      <td>18.0</td>\n",
       "    </tr>\n",
       "  </tbody>\n",
       "</table>\n",
       "</div>"
      ],
      "text/plain": [
       "               name                 club  age    country  \\\n",
       "0     Chidera Ejuke           Sevilla FC   26    Nigeria   \n",
       "1  Thibaut Courtois       Real Madrid CF   32    Bélgica   \n",
       "2           Jailson     RC Celta de Vigo   29     Brasil   \n",
       "3  Giovani Lo Celso  Real Betis Balompié   28  Argentina   \n",
       "4    Yaser Asprilla            Girona FC   20     Italia   \n",
       "\n",
       "                                    injury       since until  value (mill. €)  \n",
       "0                       Lesión en el muslo  21/10/2024   NaN              6.0  \n",
       "1                       Lesión del aductor  23/10/2024   NaN             25.0  \n",
       "2               Molestias en los aductores  18/10/2024   NaN              1.5  \n",
       "3                       Lesión en el muslo  17/10/2024   NaN             20.0  \n",
       "4  Esguince de la articulación del tobillo  11/10/2024   NaN             18.0  "
      ]
     },
     "execution_count": 17,
     "metadata": {},
     "output_type": "execute_result"
    }
   ],
   "source": [
    "df_soccer.head()"
   ]
  },
  {
   "cell_type": "code",
   "execution_count": 19,
   "id": "1e5d5d04-91ba-4f28-b307-0208f0ec9777",
   "metadata": {},
   "outputs": [
    {
     "data": {
      "text/plain": [
       "(41, 8)"
      ]
     },
     "execution_count": 19,
     "metadata": {},
     "output_type": "execute_result"
    }
   ],
   "source": [
    "df_soccer.shape"
   ]
  },
  {
   "cell_type": "code",
   "execution_count": 50,
   "id": "6037e192-5e64-4cdb-b7e2-e6c77ebdac90",
   "metadata": {
    "scrolled": true
   },
   "outputs": [
    {
     "data": {
      "text/html": [
       "<div>\n",
       "<style scoped>\n",
       "    .dataframe tbody tr th:only-of-type {\n",
       "        vertical-align: middle;\n",
       "    }\n",
       "\n",
       "    .dataframe tbody tr th {\n",
       "        vertical-align: top;\n",
       "    }\n",
       "\n",
       "    .dataframe thead th {\n",
       "        text-align: right;\n",
       "    }\n",
       "</style>\n",
       "<table border=\"1\" class=\"dataframe\">\n",
       "  <thead>\n",
       "    <tr style=\"text-align: right;\">\n",
       "      <th></th>\n",
       "      <th>name</th>\n",
       "      <th>team</th>\n",
       "      <th>position</th>\n",
       "      <th>date</th>\n",
       "      <th>notes</th>\n",
       "    </tr>\n",
       "  </thead>\n",
       "  <tbody>\n",
       "    <tr>\n",
       "      <th>2836</th>\n",
       "      <td>Jeremy Lamb</td>\n",
       "      <td>Indiana Pacers</td>\n",
       "      <td>SG</td>\n",
       "      <td>08/04/2016</td>\n",
       "      <td>placed on IL with strained right big toe</td>\n",
       "    </tr>\n",
       "    <tr>\n",
       "      <th>6763</th>\n",
       "      <td>Harrison Barnes</td>\n",
       "      <td>Sacremento Kings</td>\n",
       "      <td>SF</td>\n",
       "      <td>30/10/2013</td>\n",
       "      <td>left foot injury (DNP)</td>\n",
       "    </tr>\n",
       "    <tr>\n",
       "      <th>4521</th>\n",
       "      <td>Terrence Ross</td>\n",
       "      <td>Orlando Magic</td>\n",
       "      <td>SG</td>\n",
       "      <td>14/04/2013</td>\n",
       "      <td>sprained left ankle (DNP)</td>\n",
       "    </tr>\n",
       "    <tr>\n",
       "      <th>5335</th>\n",
       "      <td>DeMarcus Cousins</td>\n",
       "      <td>Los Angeles Clippers</td>\n",
       "      <td>C</td>\n",
       "      <td>07/04/2016</td>\n",
       "      <td>rest (DTD)</td>\n",
       "    </tr>\n",
       "    <tr>\n",
       "      <th>6000</th>\n",
       "      <td>Anthony Davis</td>\n",
       "      <td>Los Angeles Lakers</td>\n",
       "      <td>PF</td>\n",
       "      <td>19/12/2019</td>\n",
       "      <td>activated from IL</td>\n",
       "    </tr>\n",
       "    <tr>\n",
       "      <th>1324</th>\n",
       "      <td>Derrick Rose</td>\n",
       "      <td>New York Knicks</td>\n",
       "      <td>PG</td>\n",
       "      <td>28/04/2012</td>\n",
       "      <td>torn ACL in left knee (out for season)</td>\n",
       "    </tr>\n",
       "    <tr>\n",
       "      <th>3741</th>\n",
       "      <td>Lou Williams</td>\n",
       "      <td>Atlanta Hawks</td>\n",
       "      <td>SG</td>\n",
       "      <td>20/01/2019</td>\n",
       "      <td>activated from IL</td>\n",
       "    </tr>\n",
       "    <tr>\n",
       "      <th>9191</th>\n",
       "      <td>Juwan Morgan</td>\n",
       "      <td>Utah Jazz</td>\n",
       "      <td>SF</td>\n",
       "      <td>04/12/2019</td>\n",
       "      <td>bruised left knee (DTD)</td>\n",
       "    </tr>\n",
       "    <tr>\n",
       "      <th>4859</th>\n",
       "      <td>Stephen Curry</td>\n",
       "      <td>Golden State Warriors</td>\n",
       "      <td>PG</td>\n",
       "      <td>31/10/2019</td>\n",
       "      <td>fractured left hand (out indefinitely)</td>\n",
       "    </tr>\n",
       "    <tr>\n",
       "      <th>6433</th>\n",
       "      <td>Devin Booker</td>\n",
       "      <td>Phoenix Suns</td>\n",
       "      <td>SG</td>\n",
       "      <td>26/03/2018</td>\n",
       "      <td>placed on IL with sprained right hand (out for...</td>\n",
       "    </tr>\n",
       "    <tr>\n",
       "      <th>4619</th>\n",
       "      <td>Thomas Bryant</td>\n",
       "      <td>Washington Wizards</td>\n",
       "      <td>C</td>\n",
       "      <td>10/01/2018</td>\n",
       "      <td>placed on IL</td>\n",
       "    </tr>\n",
       "    <tr>\n",
       "      <th>2018</th>\n",
       "      <td>Yuta Watanabe</td>\n",
       "      <td>Toronto Raptors</td>\n",
       "      <td>SF</td>\n",
       "      <td>01/02/2019</td>\n",
       "      <td>activated from IL</td>\n",
       "    </tr>\n",
       "    <tr>\n",
       "      <th>8591</th>\n",
       "      <td>Mike Muscala</td>\n",
       "      <td>Oklahoma City Thunder</td>\n",
       "      <td>C</td>\n",
       "      <td>07/11/2015</td>\n",
       "      <td>returned to lineup</td>\n",
       "    </tr>\n",
       "    <tr>\n",
       "      <th>6848</th>\n",
       "      <td>Damian Jones</td>\n",
       "      <td>Sacremento Kings</td>\n",
       "      <td>C</td>\n",
       "      <td>13/12/2016</td>\n",
       "      <td>activated from IL</td>\n",
       "    </tr>\n",
       "    <tr>\n",
       "      <th>78</th>\n",
       "      <td>Al Horford</td>\n",
       "      <td>Boston Celtics</td>\n",
       "      <td>C</td>\n",
       "      <td>14/11/2012</td>\n",
       "      <td>stomach virus (DNP)</td>\n",
       "    </tr>\n",
       "    <tr>\n",
       "      <th>4476</th>\n",
       "      <td>Jonathan Isaac</td>\n",
       "      <td>Orlando Magic</td>\n",
       "      <td>PF</td>\n",
       "      <td>12/11/2017</td>\n",
       "      <td>sprained right ankle (DTD)</td>\n",
       "    </tr>\n",
       "    <tr>\n",
       "      <th>3901</th>\n",
       "      <td>Kelly Oubre Jr.</td>\n",
       "      <td>Charlotte Hornets</td>\n",
       "      <td>SG</td>\n",
       "      <td>26/02/2020</td>\n",
       "      <td>placed on IL with right knee injury (out for s...</td>\n",
       "    </tr>\n",
       "    <tr>\n",
       "      <th>7583</th>\n",
       "      <td>D.J. Wilson</td>\n",
       "      <td>Houston Rockets</td>\n",
       "      <td>PF</td>\n",
       "      <td>19/12/2017</td>\n",
       "      <td>placed on IL</td>\n",
       "    </tr>\n",
       "    <tr>\n",
       "      <th>947</th>\n",
       "      <td>Tyler Johnson</td>\n",
       "      <td>Brooklyn Nets</td>\n",
       "      <td>SG</td>\n",
       "      <td>03/02/2020</td>\n",
       "      <td>placed on IL with sore right knee</td>\n",
       "    </tr>\n",
       "    <tr>\n",
       "      <th>8910</th>\n",
       "      <td>Cody Zeller</td>\n",
       "      <td>Portland Trail Blazers</td>\n",
       "      <td>C</td>\n",
       "      <td>09/02/2017</td>\n",
       "      <td>activated from IL</td>\n",
       "    </tr>\n",
       "    <tr>\n",
       "      <th>291</th>\n",
       "      <td>Dennis Schroder</td>\n",
       "      <td>Boston Celtics</td>\n",
       "      <td>PG</td>\n",
       "      <td>14/02/2018</td>\n",
       "      <td>tightness in lower back (DTD)</td>\n",
       "    </tr>\n",
       "    <tr>\n",
       "      <th>5558</th>\n",
       "      <td>Kawhi Leonard</td>\n",
       "      <td>Los Angeles Clippers</td>\n",
       "      <td>SF</td>\n",
       "      <td>06/01/2019</td>\n",
       "      <td>placed on IL</td>\n",
       "    </tr>\n",
       "    <tr>\n",
       "      <th>1168</th>\n",
       "      <td>Taj Gibson</td>\n",
       "      <td>New York Knicks</td>\n",
       "      <td>C</td>\n",
       "      <td>21/03/2019</td>\n",
       "      <td>strained left calf (DTD)</td>\n",
       "    </tr>\n",
       "    <tr>\n",
       "      <th>3399</th>\n",
       "      <td>Khris Middleton</td>\n",
       "      <td>Milwaukee Bucks</td>\n",
       "      <td>SF</td>\n",
       "      <td>11/11/2014</td>\n",
       "      <td>sore right knee (DNP)</td>\n",
       "    </tr>\n",
       "    <tr>\n",
       "      <th>6062</th>\n",
       "      <td>Marc Gasol</td>\n",
       "      <td>Los Angeles Lakers</td>\n",
       "      <td>C</td>\n",
       "      <td>01/11/2016</td>\n",
       "      <td>rest (DTD)</td>\n",
       "    </tr>\n",
       "    <tr>\n",
       "      <th>218</th>\n",
       "      <td>Jabari Parker</td>\n",
       "      <td>Boston Celtics</td>\n",
       "      <td>PF</td>\n",
       "      <td>28/10/2015</td>\n",
       "      <td>placed on IL recovering from surgery on left k...</td>\n",
       "    </tr>\n",
       "    <tr>\n",
       "      <th>3064</th>\n",
       "      <td>Giannis Antetokounmpo</td>\n",
       "      <td>Milwaukee Bucks</td>\n",
       "      <td>PF</td>\n",
       "      <td>28/01/2020</td>\n",
       "      <td>placed on IL with sore right shoulder</td>\n",
       "    </tr>\n",
       "    <tr>\n",
       "      <th>3296</th>\n",
       "      <td>Rodney Hood</td>\n",
       "      <td>Milwaukee Bucks</td>\n",
       "      <td>SG</td>\n",
       "      <td>13/12/2017</td>\n",
       "      <td>returned to lineup</td>\n",
       "    </tr>\n",
       "    <tr>\n",
       "      <th>7929</th>\n",
       "      <td>Keita Bates-Diop</td>\n",
       "      <td>San Antonio Spurs</td>\n",
       "      <td>SF</td>\n",
       "      <td>30/12/2018</td>\n",
       "      <td>illness (DTD)</td>\n",
       "    </tr>\n",
       "    <tr>\n",
       "      <th>2917</th>\n",
       "      <td>JaKarr Sampson</td>\n",
       "      <td>Indiana Pacers</td>\n",
       "      <td>SF</td>\n",
       "      <td>07/03/2018</td>\n",
       "      <td>activated from IL</td>\n",
       "    </tr>\n",
       "    <tr>\n",
       "      <th>2282</th>\n",
       "      <td>Nikola Vucevic</td>\n",
       "      <td>Chicago Bulls</td>\n",
       "      <td>C</td>\n",
       "      <td>16/04/2014</td>\n",
       "      <td>sore left Achilles (DNP)</td>\n",
       "    </tr>\n",
       "    <tr>\n",
       "      <th>4554</th>\n",
       "      <td>Bradley Beal</td>\n",
       "      <td>Washington Wizards</td>\n",
       "      <td>SG</td>\n",
       "      <td>25/03/2013</td>\n",
       "      <td>sprained left ankle (DNP)</td>\n",
       "    </tr>\n",
       "    <tr>\n",
       "      <th>8882</th>\n",
       "      <td>Tony Snell</td>\n",
       "      <td>Portland Trail Blazers</td>\n",
       "      <td>SF</td>\n",
       "      <td>27/11/2019</td>\n",
       "      <td>returned to lineup</td>\n",
       "    </tr>\n",
       "    <tr>\n",
       "      <th>6994</th>\n",
       "      <td>Reggie Bullock</td>\n",
       "      <td>Dallas Mavericks</td>\n",
       "      <td>SF</td>\n",
       "      <td>22/01/2014</td>\n",
       "      <td>activated from IL</td>\n",
       "    </tr>\n",
       "    <tr>\n",
       "      <th>4024</th>\n",
       "      <td>Jimmy Butler</td>\n",
       "      <td>Miami Heat</td>\n",
       "      <td>SF</td>\n",
       "      <td>02/01/2019</td>\n",
       "      <td>placed on IL with upper respiratory infection</td>\n",
       "    </tr>\n",
       "    <tr>\n",
       "      <th>3608</th>\n",
       "      <td>Danilo Gallinari</td>\n",
       "      <td>Atlanta Hawks</td>\n",
       "      <td>PF</td>\n",
       "      <td>04/04/2015</td>\n",
       "      <td>undisclosed (DTD)</td>\n",
       "    </tr>\n",
       "    <tr>\n",
       "      <th>4989</th>\n",
       "      <td>Andre Iguodala</td>\n",
       "      <td>Golden State Warriors</td>\n",
       "      <td>F</td>\n",
       "      <td>20/12/2017</td>\n",
       "      <td>placed on IL with flu</td>\n",
       "    </tr>\n",
       "    <tr>\n",
       "      <th>2984</th>\n",
       "      <td>T.J. Warren</td>\n",
       "      <td>Indiana Pacers</td>\n",
       "      <td>SF</td>\n",
       "      <td>19/02/2016</td>\n",
       "      <td>placed on IL with fractured right foot (out fo...</td>\n",
       "    </tr>\n",
       "    <tr>\n",
       "      <th>9272</th>\n",
       "      <td>Hassan Whiteside</td>\n",
       "      <td>Utah Jazz</td>\n",
       "      <td>C</td>\n",
       "      <td>21/11/2019</td>\n",
       "      <td>placed on IL with right hip injury</td>\n",
       "    </tr>\n",
       "    <tr>\n",
       "      <th>682</th>\n",
       "      <td>Joe Harris</td>\n",
       "      <td>Brooklyn Nets</td>\n",
       "      <td>SF</td>\n",
       "      <td>04/12/2015</td>\n",
       "      <td>placed on IL</td>\n",
       "    </tr>\n",
       "    <tr>\n",
       "      <th>6868</th>\n",
       "      <td>Damian Jones</td>\n",
       "      <td>Sacremento Kings</td>\n",
       "      <td>C</td>\n",
       "      <td>02/02/2018</td>\n",
       "      <td>activated from IL</td>\n",
       "    </tr>\n",
       "    <tr>\n",
       "      <th>1783</th>\n",
       "      <td>Chris Boucher</td>\n",
       "      <td>Toronto Raptors</td>\n",
       "      <td>PF</td>\n",
       "      <td>17/10/2017</td>\n",
       "      <td>placed on IL</td>\n",
       "    </tr>\n",
       "    <tr>\n",
       "      <th>4352</th>\n",
       "      <td>Wendell Carter Jr.</td>\n",
       "      <td>Orlando Magic</td>\n",
       "      <td>C</td>\n",
       "      <td>08/01/2020</td>\n",
       "      <td>placed on IL with high right ankle sprain</td>\n",
       "    </tr>\n",
       "    <tr>\n",
       "      <th>5344</th>\n",
       "      <td>DeMarcus Cousins</td>\n",
       "      <td>Los Angeles Clippers</td>\n",
       "      <td>C</td>\n",
       "      <td>26/01/2018</td>\n",
       "      <td>torn left Achilles tendon (out for season)</td>\n",
       "    </tr>\n",
       "    <tr>\n",
       "      <th>3771</th>\n",
       "      <td>Delon Wright</td>\n",
       "      <td>Atlanta Hawks</td>\n",
       "      <td>SG</td>\n",
       "      <td>06/02/2017</td>\n",
       "      <td>placed on IL</td>\n",
       "    </tr>\n",
       "    <tr>\n",
       "      <th>8513</th>\n",
       "      <td>Derrick Favors</td>\n",
       "      <td>Oklahoma City Thunder</td>\n",
       "      <td>C</td>\n",
       "      <td>07/12/2013</td>\n",
       "      <td>placed on IL with sore lower back</td>\n",
       "    </tr>\n",
       "    <tr>\n",
       "      <th>1057</th>\n",
       "      <td>Jahlil Okafor</td>\n",
       "      <td>Brooklyn Nets</td>\n",
       "      <td>C</td>\n",
       "      <td>26/02/2018</td>\n",
       "      <td>illness (DTD)</td>\n",
       "    </tr>\n",
       "    <tr>\n",
       "      <th>5401</th>\n",
       "      <td>Paul George</td>\n",
       "      <td>Los Angeles Clippers</td>\n",
       "      <td>SG</td>\n",
       "      <td>10/01/2020</td>\n",
       "      <td>placed on IL with strained left hamstring</td>\n",
       "    </tr>\n",
       "    <tr>\n",
       "      <th>3207</th>\n",
       "      <td>Jrue Holiday</td>\n",
       "      <td>Milwaukee Bucks</td>\n",
       "      <td>PG</td>\n",
       "      <td>24/01/2014</td>\n",
       "      <td>stress fracture in right ankle/tibia (DNP)</td>\n",
       "    </tr>\n",
       "    <tr>\n",
       "      <th>3899</th>\n",
       "      <td>Kelly Oubre Jr.</td>\n",
       "      <td>Charlotte Hornets</td>\n",
       "      <td>SG</td>\n",
       "      <td>20/01/2020</td>\n",
       "      <td>activated from IL</td>\n",
       "    </tr>\n",
       "  </tbody>\n",
       "</table>\n",
       "</div>"
      ],
      "text/plain": [
       "                       name                    team position        date  \\\n",
       "2836            Jeremy Lamb          Indiana Pacers       SG  08/04/2016   \n",
       "6763        Harrison Barnes        Sacremento Kings       SF  30/10/2013   \n",
       "4521          Terrence Ross           Orlando Magic       SG  14/04/2013   \n",
       "5335       DeMarcus Cousins    Los Angeles Clippers        C  07/04/2016   \n",
       "6000          Anthony Davis      Los Angeles Lakers       PF  19/12/2019   \n",
       "1324           Derrick Rose         New York Knicks       PG  28/04/2012   \n",
       "3741           Lou Williams           Atlanta Hawks       SG  20/01/2019   \n",
       "9191           Juwan Morgan               Utah Jazz       SF  04/12/2019   \n",
       "4859          Stephen Curry   Golden State Warriors       PG  31/10/2019   \n",
       "6433           Devin Booker            Phoenix Suns       SG  26/03/2018   \n",
       "4619          Thomas Bryant      Washington Wizards        C  10/01/2018   \n",
       "2018          Yuta Watanabe         Toronto Raptors       SF  01/02/2019   \n",
       "8591           Mike Muscala   Oklahoma City Thunder        C  07/11/2015   \n",
       "6848           Damian Jones        Sacremento Kings        C  13/12/2016   \n",
       "78               Al Horford          Boston Celtics        C  14/11/2012   \n",
       "4476         Jonathan Isaac           Orlando Magic       PF  12/11/2017   \n",
       "3901        Kelly Oubre Jr.       Charlotte Hornets       SG  26/02/2020   \n",
       "7583            D.J. Wilson         Houston Rockets       PF  19/12/2017   \n",
       "947           Tyler Johnson           Brooklyn Nets       SG  03/02/2020   \n",
       "8910            Cody Zeller  Portland Trail Blazers        C  09/02/2017   \n",
       "291         Dennis Schroder          Boston Celtics       PG  14/02/2018   \n",
       "5558          Kawhi Leonard    Los Angeles Clippers       SF  06/01/2019   \n",
       "1168             Taj Gibson         New York Knicks        C  21/03/2019   \n",
       "3399        Khris Middleton         Milwaukee Bucks       SF  11/11/2014   \n",
       "6062             Marc Gasol      Los Angeles Lakers        C  01/11/2016   \n",
       "218           Jabari Parker          Boston Celtics       PF  28/10/2015   \n",
       "3064  Giannis Antetokounmpo         Milwaukee Bucks       PF  28/01/2020   \n",
       "3296            Rodney Hood         Milwaukee Bucks       SG  13/12/2017   \n",
       "7929       Keita Bates-Diop       San Antonio Spurs       SF  30/12/2018   \n",
       "2917         JaKarr Sampson          Indiana Pacers       SF  07/03/2018   \n",
       "2282         Nikola Vucevic           Chicago Bulls        C  16/04/2014   \n",
       "4554           Bradley Beal      Washington Wizards       SG  25/03/2013   \n",
       "8882             Tony Snell  Portland Trail Blazers       SF  27/11/2019   \n",
       "6994         Reggie Bullock        Dallas Mavericks       SF  22/01/2014   \n",
       "4024           Jimmy Butler              Miami Heat       SF  02/01/2019   \n",
       "3608       Danilo Gallinari           Atlanta Hawks       PF  04/04/2015   \n",
       "4989         Andre Iguodala   Golden State Warriors        F  20/12/2017   \n",
       "2984            T.J. Warren          Indiana Pacers       SF  19/02/2016   \n",
       "9272       Hassan Whiteside               Utah Jazz        C  21/11/2019   \n",
       "682              Joe Harris           Brooklyn Nets       SF  04/12/2015   \n",
       "6868           Damian Jones        Sacremento Kings        C  02/02/2018   \n",
       "1783          Chris Boucher         Toronto Raptors       PF  17/10/2017   \n",
       "4352     Wendell Carter Jr.           Orlando Magic        C  08/01/2020   \n",
       "5344       DeMarcus Cousins    Los Angeles Clippers        C  26/01/2018   \n",
       "3771           Delon Wright           Atlanta Hawks       SG  06/02/2017   \n",
       "8513         Derrick Favors   Oklahoma City Thunder        C  07/12/2013   \n",
       "1057          Jahlil Okafor           Brooklyn Nets        C  26/02/2018   \n",
       "5401            Paul George    Los Angeles Clippers       SG  10/01/2020   \n",
       "3207           Jrue Holiday         Milwaukee Bucks       PG  24/01/2014   \n",
       "3899        Kelly Oubre Jr.       Charlotte Hornets       SG  20/01/2020   \n",
       "\n",
       "                                                  notes  \n",
       "2836           placed on IL with strained right big toe  \n",
       "6763                             left foot injury (DNP)  \n",
       "4521                          sprained left ankle (DNP)  \n",
       "5335                                         rest (DTD)  \n",
       "6000                                  activated from IL  \n",
       "1324             torn ACL in left knee (out for season)  \n",
       "3741                                  activated from IL  \n",
       "9191                            bruised left knee (DTD)  \n",
       "4859             fractured left hand (out indefinitely)  \n",
       "6433  placed on IL with sprained right hand (out for...  \n",
       "4619                                       placed on IL  \n",
       "2018                                  activated from IL  \n",
       "8591                                 returned to lineup  \n",
       "6848                                  activated from IL  \n",
       "78                                  stomach virus (DNP)  \n",
       "4476                         sprained right ankle (DTD)  \n",
       "3901  placed on IL with right knee injury (out for s...  \n",
       "7583                                       placed on IL  \n",
       "947                   placed on IL with sore right knee  \n",
       "8910                                  activated from IL  \n",
       "291                       tightness in lower back (DTD)  \n",
       "5558                                       placed on IL  \n",
       "1168                           strained left calf (DTD)  \n",
       "3399                              sore right knee (DNP)  \n",
       "6062                                         rest (DTD)  \n",
       "218   placed on IL recovering from surgery on left k...  \n",
       "3064              placed on IL with sore right shoulder  \n",
       "3296                                 returned to lineup  \n",
       "7929                                      illness (DTD)  \n",
       "2917                                  activated from IL  \n",
       "2282                           sore left Achilles (DNP)  \n",
       "4554                          sprained left ankle (DNP)  \n",
       "8882                                 returned to lineup  \n",
       "6994                                  activated from IL  \n",
       "4024      placed on IL with upper respiratory infection  \n",
       "3608                                  undisclosed (DTD)  \n",
       "4989                              placed on IL with flu  \n",
       "2984  placed on IL with fractured right foot (out fo...  \n",
       "9272                 placed on IL with right hip injury  \n",
       "682                                        placed on IL  \n",
       "6868                                  activated from IL  \n",
       "1783                                       placed on IL  \n",
       "4352          placed on IL with high right ankle sprain  \n",
       "5344         torn left Achilles tendon (out for season)  \n",
       "3771                                       placed on IL  \n",
       "8513                  placed on IL with sore lower back  \n",
       "1057                                      illness (DTD)  \n",
       "5401          placed on IL with strained left hamstring  \n",
       "3207         stress fracture in right ankle/tibia (DNP)  \n",
       "3899                                  activated from IL  "
      ]
     },
     "execution_count": 50,
     "metadata": {},
     "output_type": "execute_result"
    }
   ],
   "source": [
    "df_basket.sample(50)"
   ]
  },
  {
   "cell_type": "code",
   "execution_count": 27,
   "id": "01f3ff4e-cf32-4d48-b5d6-a4e6e16fed38",
   "metadata": {},
   "outputs": [
    {
     "data": {
      "text/plain": [
       "(9280, 5)"
      ]
     },
     "execution_count": 27,
     "metadata": {},
     "output_type": "execute_result"
    }
   ],
   "source": [
    "df_basket.shape"
   ]
  },
  {
   "cell_type": "markdown",
   "id": "4b00e639-6c96-409a-ac81-d92ff0de7e62",
   "metadata": {
    "tags": []
   },
   "source": [
    "## <h2 style=\"color: #008080;\">Standardizing columns in both dataframes</h2>"
   ]
  },
  {
   "cell_type": "code",
   "execution_count": 44,
   "id": "dffce5e7-887f-4235-b16e-661f27975bb8",
   "metadata": {},
   "outputs": [],
   "source": [
    "df_basket.columns = [col.lower().replace(\" \", \"_\") for col in df_basket.columns]"
   ]
  },
  {
   "cell_type": "code",
   "execution_count": 46,
   "id": "ea8467c3-30eb-4e0e-8f81-0aa3b2e7d0b0",
   "metadata": {
    "scrolled": true
   },
   "outputs": [
    {
     "data": {
      "text/html": [
       "<div>\n",
       "<style scoped>\n",
       "    .dataframe tbody tr th:only-of-type {\n",
       "        vertical-align: middle;\n",
       "    }\n",
       "\n",
       "    .dataframe tbody tr th {\n",
       "        vertical-align: top;\n",
       "    }\n",
       "\n",
       "    .dataframe thead th {\n",
       "        text-align: right;\n",
       "    }\n",
       "</style>\n",
       "<table border=\"1\" class=\"dataframe\">\n",
       "  <thead>\n",
       "    <tr style=\"text-align: right;\">\n",
       "      <th></th>\n",
       "      <th>name</th>\n",
       "      <th>team</th>\n",
       "      <th>position</th>\n",
       "      <th>date</th>\n",
       "      <th>notes</th>\n",
       "    </tr>\n",
       "  </thead>\n",
       "  <tbody>\n",
       "    <tr>\n",
       "      <th>0</th>\n",
       "      <td>Jaylen Brown</td>\n",
       "      <td>Boston Celtics</td>\n",
       "      <td>SG</td>\n",
       "      <td>11/01/2017</td>\n",
       "      <td>sprained right ankle (DTD)</td>\n",
       "    </tr>\n",
       "    <tr>\n",
       "      <th>1</th>\n",
       "      <td>Jaylen Brown</td>\n",
       "      <td>Boston Celtics</td>\n",
       "      <td>SG</td>\n",
       "      <td>13/01/2017</td>\n",
       "      <td>returned to lineup</td>\n",
       "    </tr>\n",
       "    <tr>\n",
       "      <th>2</th>\n",
       "      <td>Jaylen Brown</td>\n",
       "      <td>Boston Celtics</td>\n",
       "      <td>SG</td>\n",
       "      <td>13/02/2017</td>\n",
       "      <td>placed on IL with strained right hip flexor</td>\n",
       "    </tr>\n",
       "    <tr>\n",
       "      <th>3</th>\n",
       "      <td>Jaylen Brown</td>\n",
       "      <td>Boston Celtics</td>\n",
       "      <td>SG</td>\n",
       "      <td>24/02/2017</td>\n",
       "      <td>activated from IL</td>\n",
       "    </tr>\n",
       "    <tr>\n",
       "      <th>4</th>\n",
       "      <td>Jaylen Brown</td>\n",
       "      <td>Boston Celtics</td>\n",
       "      <td>SG</td>\n",
       "      <td>06/12/2017</td>\n",
       "      <td>placed on IL with right eye inflammation</td>\n",
       "    </tr>\n",
       "  </tbody>\n",
       "</table>\n",
       "</div>"
      ],
      "text/plain": [
       "           name            team position        date  \\\n",
       "0  Jaylen Brown  Boston Celtics       SG  11/01/2017   \n",
       "1  Jaylen Brown  Boston Celtics       SG  13/01/2017   \n",
       "2  Jaylen Brown  Boston Celtics       SG  13/02/2017   \n",
       "3  Jaylen Brown  Boston Celtics       SG  24/02/2017   \n",
       "4  Jaylen Brown  Boston Celtics       SG  06/12/2017   \n",
       "\n",
       "                                         notes  \n",
       "0                   sprained right ankle (DTD)  \n",
       "1                           returned to lineup  \n",
       "2  placed on IL with strained right hip flexor  \n",
       "3                            activated from IL  \n",
       "4     placed on IL with right eye inflammation  "
      ]
     },
     "execution_count": 46,
     "metadata": {},
     "output_type": "execute_result"
    }
   ],
   "source": [
    "df_basket.head()"
   ]
  },
  {
   "cell_type": "code",
   "execution_count": 53,
   "id": "847d14f9-f947-459f-828d-3d7e730cf72b",
   "metadata": {},
   "outputs": [],
   "source": [
    "df_soccer.columns=[col.lower().replace(\" \",\"_\") for col in df_soccer.columns]"
   ]
  },
  {
   "cell_type": "code",
   "execution_count": 55,
   "id": "4d1db431-890c-4f97-b846-5862b3a50a61",
   "metadata": {
    "scrolled": true
   },
   "outputs": [
    {
     "data": {
      "text/html": [
       "<div>\n",
       "<style scoped>\n",
       "    .dataframe tbody tr th:only-of-type {\n",
       "        vertical-align: middle;\n",
       "    }\n",
       "\n",
       "    .dataframe tbody tr th {\n",
       "        vertical-align: top;\n",
       "    }\n",
       "\n",
       "    .dataframe thead th {\n",
       "        text-align: right;\n",
       "    }\n",
       "</style>\n",
       "<table border=\"1\" class=\"dataframe\">\n",
       "  <thead>\n",
       "    <tr style=\"text-align: right;\">\n",
       "      <th></th>\n",
       "      <th>name</th>\n",
       "      <th>club</th>\n",
       "      <th>age</th>\n",
       "      <th>country</th>\n",
       "      <th>injury</th>\n",
       "      <th>since</th>\n",
       "      <th>until</th>\n",
       "      <th>value_(mill._€)</th>\n",
       "    </tr>\n",
       "  </thead>\n",
       "  <tbody>\n",
       "    <tr>\n",
       "      <th>0</th>\n",
       "      <td>Chidera Ejuke</td>\n",
       "      <td>Sevilla FC</td>\n",
       "      <td>26</td>\n",
       "      <td>Nigeria</td>\n",
       "      <td>Lesión en el muslo</td>\n",
       "      <td>21/10/2024</td>\n",
       "      <td>NaN</td>\n",
       "      <td>6.0</td>\n",
       "    </tr>\n",
       "    <tr>\n",
       "      <th>1</th>\n",
       "      <td>Thibaut Courtois</td>\n",
       "      <td>Real Madrid CF</td>\n",
       "      <td>32</td>\n",
       "      <td>Bélgica</td>\n",
       "      <td>Lesión del aductor</td>\n",
       "      <td>23/10/2024</td>\n",
       "      <td>NaN</td>\n",
       "      <td>25.0</td>\n",
       "    </tr>\n",
       "    <tr>\n",
       "      <th>2</th>\n",
       "      <td>Jailson</td>\n",
       "      <td>RC Celta de Vigo</td>\n",
       "      <td>29</td>\n",
       "      <td>Brasil</td>\n",
       "      <td>Molestias en los aductores</td>\n",
       "      <td>18/10/2024</td>\n",
       "      <td>NaN</td>\n",
       "      <td>1.5</td>\n",
       "    </tr>\n",
       "    <tr>\n",
       "      <th>3</th>\n",
       "      <td>Giovani Lo Celso</td>\n",
       "      <td>Real Betis Balompié</td>\n",
       "      <td>28</td>\n",
       "      <td>Argentina</td>\n",
       "      <td>Lesión en el muslo</td>\n",
       "      <td>17/10/2024</td>\n",
       "      <td>NaN</td>\n",
       "      <td>20.0</td>\n",
       "    </tr>\n",
       "    <tr>\n",
       "      <th>4</th>\n",
       "      <td>Yaser Asprilla</td>\n",
       "      <td>Girona FC</td>\n",
       "      <td>20</td>\n",
       "      <td>Italia</td>\n",
       "      <td>Esguince de la articulación del tobillo</td>\n",
       "      <td>11/10/2024</td>\n",
       "      <td>NaN</td>\n",
       "      <td>18.0</td>\n",
       "    </tr>\n",
       "    <tr>\n",
       "      <th>5</th>\n",
       "      <td>Daley Blind</td>\n",
       "      <td>Girona FC</td>\n",
       "      <td>34</td>\n",
       "      <td>Colombia</td>\n",
       "      <td>Lesión desconocida</td>\n",
       "      <td>30/09/2024</td>\n",
       "      <td>NaN</td>\n",
       "      <td>3.0</td>\n",
       "    </tr>\n",
       "    <tr>\n",
       "      <th>6</th>\n",
       "      <td>Donny van de Beek</td>\n",
       "      <td>Girona FC</td>\n",
       "      <td>27</td>\n",
       "      <td>Países Bajos</td>\n",
       "      <td>Golpe</td>\n",
       "      <td>22/10/2024</td>\n",
       "      <td>NaN</td>\n",
       "      <td>5.0</td>\n",
       "    </tr>\n",
       "    <tr>\n",
       "      <th>7</th>\n",
       "      <td>Pablo Barrios</td>\n",
       "      <td>Atlético de Madrid</td>\n",
       "      <td>21</td>\n",
       "      <td>Inglaterra</td>\n",
       "      <td>Lesión muscular</td>\n",
       "      <td>20/10/2024</td>\n",
       "      <td>NaN</td>\n",
       "      <td>30.0</td>\n",
       "    </tr>\n",
       "    <tr>\n",
       "      <th>8</th>\n",
       "      <td>Ørjan Nyland</td>\n",
       "      <td>Sevilla FC</td>\n",
       "      <td>34</td>\n",
       "      <td>Países Bajos</td>\n",
       "      <td>Rotura del ligamento externo de la rodilla</td>\n",
       "      <td>26/10/2024</td>\n",
       "      <td>NaN</td>\n",
       "      <td>1.4</td>\n",
       "    </tr>\n",
       "    <tr>\n",
       "      <th>9</th>\n",
       "      <td>Abel Ruiz</td>\n",
       "      <td>Girona FC</td>\n",
       "      <td>24</td>\n",
       "      <td>España</td>\n",
       "      <td>Problemas musculares</td>\n",
       "      <td>20/10/2024</td>\n",
       "      <td>NaN</td>\n",
       "      <td>12.0</td>\n",
       "    </tr>\n",
       "    <tr>\n",
       "      <th>10</th>\n",
       "      <td>Rafa Mir</td>\n",
       "      <td>Valencia CF</td>\n",
       "      <td>27</td>\n",
       "      <td>Noruega</td>\n",
       "      <td>Lesión en el muslo</td>\n",
       "      <td>27/09/2024</td>\n",
       "      <td>NaN</td>\n",
       "      <td>1.0</td>\n",
       "    </tr>\n",
       "    <tr>\n",
       "      <th>11</th>\n",
       "      <td>Portu</td>\n",
       "      <td>Girona FC</td>\n",
       "      <td>32</td>\n",
       "      <td>España</td>\n",
       "      <td>Cirugía del tobillo</td>\n",
       "      <td>05/10/2024</td>\n",
       "      <td>NaN</td>\n",
       "      <td>3.5</td>\n",
       "    </tr>\n",
       "    <tr>\n",
       "      <th>12</th>\n",
       "      <td>Iván Martín</td>\n",
       "      <td>Girona FC</td>\n",
       "      <td>25</td>\n",
       "      <td>España</td>\n",
       "      <td>Lesión en el gemelo</td>\n",
       "      <td>22/10/2024</td>\n",
       "      <td>NaN</td>\n",
       "      <td>15.0</td>\n",
       "    </tr>\n",
       "    <tr>\n",
       "      <th>13</th>\n",
       "      <td>Luca de la Torre</td>\n",
       "      <td>RC Celta de Vigo</td>\n",
       "      <td>26</td>\n",
       "      <td>España</td>\n",
       "      <td>Lesión de tobillo</td>\n",
       "      <td>11/09/2024</td>\n",
       "      <td>NaN</td>\n",
       "      <td>3.0</td>\n",
       "    </tr>\n",
       "    <tr>\n",
       "      <th>14</th>\n",
       "      <td>Pau López</td>\n",
       "      <td>Girona FC</td>\n",
       "      <td>29</td>\n",
       "      <td>España</td>\n",
       "      <td>Edema óseo</td>\n",
       "      <td>10/10/2024</td>\n",
       "      <td>31/10/2024</td>\n",
       "      <td>7.5</td>\n",
       "    </tr>\n",
       "    <tr>\n",
       "      <th>15</th>\n",
       "      <td>Eric García</td>\n",
       "      <td>FC Barcelona</td>\n",
       "      <td>23</td>\n",
       "      <td>Estados Unidos</td>\n",
       "      <td>Molestias en los aductores</td>\n",
       "      <td>20/10/2024</td>\n",
       "      <td>01/11/2024</td>\n",
       "      <td>20.0</td>\n",
       "    </tr>\n",
       "    <tr>\n",
       "      <th>16</th>\n",
       "      <td>Javi Puado</td>\n",
       "      <td>RCD Espanyol</td>\n",
       "      <td>26</td>\n",
       "      <td>España</td>\n",
       "      <td>Lesión de rodilla</td>\n",
       "      <td>01/10/2024</td>\n",
       "      <td>01/11/2024</td>\n",
       "      <td>8.0</td>\n",
       "    </tr>\n",
       "    <tr>\n",
       "      <th>17</th>\n",
       "      <td>Arsen Zakharyan</td>\n",
       "      <td>Real Sociedad</td>\n",
       "      <td>21</td>\n",
       "      <td>España</td>\n",
       "      <td>Rotura de tendones</td>\n",
       "      <td>01/08/2024</td>\n",
       "      <td>01/11/2024</td>\n",
       "      <td>18.0</td>\n",
       "    </tr>\n",
       "    <tr>\n",
       "      <th>18</th>\n",
       "      <td>Marcos Llorente</td>\n",
       "      <td>Atlético de Madrid</td>\n",
       "      <td>29</td>\n",
       "      <td>España</td>\n",
       "      <td>Lesión en el muslo</td>\n",
       "      <td>03/10/2024</td>\n",
       "      <td>03/11/2024</td>\n",
       "      <td>30.0</td>\n",
       "    </tr>\n",
       "    <tr>\n",
       "      <th>19</th>\n",
       "      <td>Suso</td>\n",
       "      <td>Sevilla FC</td>\n",
       "      <td>30</td>\n",
       "      <td>España</td>\n",
       "      <td>Rotura de fibras en el aductor</td>\n",
       "      <td>21/10/2024</td>\n",
       "      <td>04/11/2024</td>\n",
       "      <td>3.0</td>\n",
       "    </tr>\n",
       "    <tr>\n",
       "      <th>20</th>\n",
       "      <td>Robin Le Normand</td>\n",
       "      <td>Atlético de Madrid</td>\n",
       "      <td>27</td>\n",
       "      <td>Rusia</td>\n",
       "      <td>Traumatismo craneal</td>\n",
       "      <td>01/10/2024</td>\n",
       "      <td>04/11/2024</td>\n",
       "      <td>40.0</td>\n",
       "    </tr>\n",
       "    <tr>\n",
       "      <th>21</th>\n",
       "      <td>Viktor Tsygankov</td>\n",
       "      <td>Girona FC</td>\n",
       "      <td>26</td>\n",
       "      <td>España</td>\n",
       "      <td>Lesión en el muslo</td>\n",
       "      <td>03/10/2024</td>\n",
       "      <td>07/11/2024</td>\n",
       "      <td>30.0</td>\n",
       "    </tr>\n",
       "    <tr>\n",
       "      <th>22</th>\n",
       "      <td>Rodrygo</td>\n",
       "      <td>Real Madrid CF</td>\n",
       "      <td>23</td>\n",
       "      <td>España</td>\n",
       "      <td>Lesión en el muslo</td>\n",
       "      <td>22/10/2024</td>\n",
       "      <td>12/11/2024</td>\n",
       "      <td>110.0</td>\n",
       "    </tr>\n",
       "    <tr>\n",
       "      <th>23</th>\n",
       "      <td>Jhon Solís</td>\n",
       "      <td>Girona FC</td>\n",
       "      <td>20</td>\n",
       "      <td>España</td>\n",
       "      <td>Lesión muscular</td>\n",
       "      <td>17/10/2024</td>\n",
       "      <td>17/11/2024</td>\n",
       "      <td>4.0</td>\n",
       "    </tr>\n",
       "    <tr>\n",
       "      <th>24</th>\n",
       "      <td>Ronald Araujo</td>\n",
       "      <td>FC Barcelona</td>\n",
       "      <td>25</td>\n",
       "      <td>Francia</td>\n",
       "      <td>Lesión en el muslo</td>\n",
       "      <td>15/07/2024</td>\n",
       "      <td>22/11/2024</td>\n",
       "      <td>70.0</td>\n",
       "    </tr>\n",
       "    <tr>\n",
       "      <th>25</th>\n",
       "      <td>Saúl Ñíguez</td>\n",
       "      <td>Sevilla FC</td>\n",
       "      <td>29</td>\n",
       "      <td>Ucrania</td>\n",
       "      <td>Lesión de cadera</td>\n",
       "      <td>25/09/2024</td>\n",
       "      <td>25/11/2024</td>\n",
       "      <td>5.0</td>\n",
       "    </tr>\n",
       "    <tr>\n",
       "      <th>26</th>\n",
       "      <td>Oriol Romeu</td>\n",
       "      <td>Girona FC</td>\n",
       "      <td>33</td>\n",
       "      <td>Brasil</td>\n",
       "      <td>Rotura de tendones</td>\n",
       "      <td>30/09/2024</td>\n",
       "      <td>30/11/2024</td>\n",
       "      <td>2.0</td>\n",
       "    </tr>\n",
       "    <tr>\n",
       "      <th>27</th>\n",
       "      <td>Unai Simón</td>\n",
       "      <td>Athletic Club</td>\n",
       "      <td>27</td>\n",
       "      <td>España</td>\n",
       "      <td>Lesión de muñeca</td>\n",
       "      <td>18/07/2024</td>\n",
       "      <td>01/12/2024</td>\n",
       "      <td>30.0</td>\n",
       "    </tr>\n",
       "    <tr>\n",
       "      <th>28</th>\n",
       "      <td>Ferran Torres</td>\n",
       "      <td>FC Barcelona</td>\n",
       "      <td>24</td>\n",
       "      <td>Colombia</td>\n",
       "      <td>Lesión en el muslo</td>\n",
       "      <td>07/10/2024</td>\n",
       "      <td>02/12/2024</td>\n",
       "      <td>30.0</td>\n",
       "    </tr>\n",
       "    <tr>\n",
       "      <th>29</th>\n",
       "      <td>Borja Garcés</td>\n",
       "      <td>Atlético de Madrid</td>\n",
       "      <td>25</td>\n",
       "      <td>Uruguay</td>\n",
       "      <td>Rotura del ligamento cruzado</td>\n",
       "      <td>26/04/2024</td>\n",
       "      <td>26/12/2024</td>\n",
       "      <td>2.0</td>\n",
       "    </tr>\n",
       "    <tr>\n",
       "      <th>30</th>\n",
       "      <td>Isco</td>\n",
       "      <td>Real Betis Balompié</td>\n",
       "      <td>32</td>\n",
       "      <td>España</td>\n",
       "      <td>Fractura de peroné</td>\n",
       "      <td>06/09/2024</td>\n",
       "      <td>01/01/2025</td>\n",
       "      <td>8.0</td>\n",
       "    </tr>\n",
       "    <tr>\n",
       "      <th>31</th>\n",
       "      <td>Andreas Christensen</td>\n",
       "      <td>FC Barcelona</td>\n",
       "      <td>28</td>\n",
       "      <td>España</td>\n",
       "      <td>Irritación del tendón de Aquiles</td>\n",
       "      <td>22/08/2024</td>\n",
       "      <td>01/01/2025</td>\n",
       "      <td>30.0</td>\n",
       "    </tr>\n",
       "    <tr>\n",
       "      <th>32</th>\n",
       "      <td>David Alaba</td>\n",
       "      <td>Real Madrid CF</td>\n",
       "      <td>32</td>\n",
       "      <td>España</td>\n",
       "      <td>Rotura del ligamento cruzado</td>\n",
       "      <td>18/12/2023</td>\n",
       "      <td>01/01/2025</td>\n",
       "      <td>15.0</td>\n",
       "    </tr>\n",
       "    <tr>\n",
       "      <th>33</th>\n",
       "      <td>Alfonso Espino</td>\n",
       "      <td>Rayo Vallecano</td>\n",
       "      <td>32</td>\n",
       "      <td>España</td>\n",
       "      <td>Fractura de peroné</td>\n",
       "      <td>02/09/2024</td>\n",
       "      <td>01/01/2025</td>\n",
       "      <td>2.4</td>\n",
       "    </tr>\n",
       "    <tr>\n",
       "      <th>34</th>\n",
       "      <td>Mouctar Diakhaby</td>\n",
       "      <td>Valencia CF</td>\n",
       "      <td>27</td>\n",
       "      <td>España</td>\n",
       "      <td>Lesión de rodilla</td>\n",
       "      <td>03/03/2024</td>\n",
       "      <td>01/03/2025</td>\n",
       "      <td>2.0</td>\n",
       "    </tr>\n",
       "    <tr>\n",
       "      <th>35</th>\n",
       "      <td>Hamari Traoré</td>\n",
       "      <td>Real Sociedad</td>\n",
       "      <td>32</td>\n",
       "      <td>España</td>\n",
       "      <td>Rotura del ligamento cruzado</td>\n",
       "      <td>02/09/2024</td>\n",
       "      <td>01/05/2025</td>\n",
       "      <td>6.0</td>\n",
       "    </tr>\n",
       "    <tr>\n",
       "      <th>36</th>\n",
       "      <td>William Carvalho</td>\n",
       "      <td>Real Betis Balompié</td>\n",
       "      <td>32</td>\n",
       "      <td>España</td>\n",
       "      <td>Problemas del talón de Aquiles</td>\n",
       "      <td>13/09/2024</td>\n",
       "      <td>01/05/2025</td>\n",
       "      <td>3.0</td>\n",
       "    </tr>\n",
       "    <tr>\n",
       "      <th>37</th>\n",
       "      <td>Daniel Carvajal</td>\n",
       "      <td>Real Madrid CF</td>\n",
       "      <td>32</td>\n",
       "      <td>Dinamarca</td>\n",
       "      <td>Rotura del ligamento cruzado</td>\n",
       "      <td>06/10/2024</td>\n",
       "      <td>01/07/2025</td>\n",
       "      <td>12.0</td>\n",
       "    </tr>\n",
       "    <tr>\n",
       "      <th>38</th>\n",
       "      <td>Marc-André ter Stegen</td>\n",
       "      <td>FC Barcelona</td>\n",
       "      <td>32</td>\n",
       "      <td>Austria</td>\n",
       "      <td>Rotura del tendón rotuliano</td>\n",
       "      <td>23/09/2024</td>\n",
       "      <td>01/07/2025</td>\n",
       "      <td>20.0</td>\n",
       "    </tr>\n",
       "    <tr>\n",
       "      <th>39</th>\n",
       "      <td>Thierry Correia</td>\n",
       "      <td>Valencia CF</td>\n",
       "      <td>25</td>\n",
       "      <td>Uruguay</td>\n",
       "      <td>Rotura del ligamento cruzado</td>\n",
       "      <td>27/10/2024</td>\n",
       "      <td>01/07/2025</td>\n",
       "      <td>6.0</td>\n",
       "    </tr>\n",
       "    <tr>\n",
       "      <th>40</th>\n",
       "      <td>Marc Bernal</td>\n",
       "      <td>FC Barcelona</td>\n",
       "      <td>17</td>\n",
       "      <td>España</td>\n",
       "      <td>Rotura del ligamento cruzado</td>\n",
       "      <td>27/08/2024</td>\n",
       "      <td>01/08/2025</td>\n",
       "      <td>5.0</td>\n",
       "    </tr>\n",
       "  </tbody>\n",
       "</table>\n",
       "</div>"
      ],
      "text/plain": [
       "                     name                 club  age         country  \\\n",
       "0           Chidera Ejuke           Sevilla FC   26         Nigeria   \n",
       "1        Thibaut Courtois       Real Madrid CF   32         Bélgica   \n",
       "2                 Jailson     RC Celta de Vigo   29          Brasil   \n",
       "3        Giovani Lo Celso  Real Betis Balompié   28       Argentina   \n",
       "4          Yaser Asprilla            Girona FC   20          Italia   \n",
       "5             Daley Blind            Girona FC   34        Colombia   \n",
       "6       Donny van de Beek            Girona FC   27    Países Bajos   \n",
       "7           Pablo Barrios   Atlético de Madrid   21      Inglaterra   \n",
       "8            Ørjan Nyland           Sevilla FC   34    Países Bajos   \n",
       "9               Abel Ruiz            Girona FC   24          España   \n",
       "10               Rafa Mir          Valencia CF   27         Noruega   \n",
       "11                  Portu            Girona FC   32          España   \n",
       "12            Iván Martín            Girona FC   25          España   \n",
       "13       Luca de la Torre     RC Celta de Vigo   26          España   \n",
       "14              Pau López            Girona FC   29          España   \n",
       "15            Eric García         FC Barcelona   23  Estados Unidos   \n",
       "16             Javi Puado         RCD Espanyol   26          España   \n",
       "17        Arsen Zakharyan        Real Sociedad   21          España   \n",
       "18        Marcos Llorente   Atlético de Madrid   29          España   \n",
       "19                   Suso           Sevilla FC   30          España   \n",
       "20       Robin Le Normand   Atlético de Madrid   27           Rusia   \n",
       "21       Viktor Tsygankov            Girona FC   26          España   \n",
       "22                Rodrygo       Real Madrid CF   23          España   \n",
       "23             Jhon Solís            Girona FC   20          España   \n",
       "24          Ronald Araujo         FC Barcelona   25         Francia   \n",
       "25            Saúl Ñíguez           Sevilla FC   29         Ucrania   \n",
       "26            Oriol Romeu            Girona FC   33          Brasil   \n",
       "27             Unai Simón        Athletic Club   27          España   \n",
       "28          Ferran Torres         FC Barcelona   24        Colombia   \n",
       "29           Borja Garcés   Atlético de Madrid   25         Uruguay   \n",
       "30                   Isco  Real Betis Balompié   32          España   \n",
       "31    Andreas Christensen         FC Barcelona   28          España   \n",
       "32            David Alaba       Real Madrid CF   32          España   \n",
       "33         Alfonso Espino       Rayo Vallecano   32          España   \n",
       "34       Mouctar Diakhaby          Valencia CF   27          España   \n",
       "35          Hamari Traoré        Real Sociedad   32          España   \n",
       "36       William Carvalho  Real Betis Balompié   32          España   \n",
       "37        Daniel Carvajal       Real Madrid CF   32       Dinamarca   \n",
       "38  Marc-André ter Stegen         FC Barcelona   32         Austria   \n",
       "39        Thierry Correia          Valencia CF   25         Uruguay   \n",
       "40            Marc Bernal         FC Barcelona   17          España   \n",
       "\n",
       "                                        injury       since       until  \\\n",
       "0                           Lesión en el muslo  21/10/2024         NaN   \n",
       "1                           Lesión del aductor  23/10/2024         NaN   \n",
       "2                   Molestias en los aductores  18/10/2024         NaN   \n",
       "3                           Lesión en el muslo  17/10/2024         NaN   \n",
       "4      Esguince de la articulación del tobillo  11/10/2024         NaN   \n",
       "5                           Lesión desconocida  30/09/2024         NaN   \n",
       "6                                        Golpe  22/10/2024         NaN   \n",
       "7                              Lesión muscular  20/10/2024         NaN   \n",
       "8   Rotura del ligamento externo de la rodilla  26/10/2024         NaN   \n",
       "9                         Problemas musculares  20/10/2024         NaN   \n",
       "10                          Lesión en el muslo  27/09/2024         NaN   \n",
       "11                         Cirugía del tobillo  05/10/2024         NaN   \n",
       "12                         Lesión en el gemelo  22/10/2024         NaN   \n",
       "13                           Lesión de tobillo  11/09/2024         NaN   \n",
       "14                                  Edema óseo  10/10/2024  31/10/2024   \n",
       "15                  Molestias en los aductores  20/10/2024  01/11/2024   \n",
       "16                           Lesión de rodilla  01/10/2024  01/11/2024   \n",
       "17                          Rotura de tendones  01/08/2024  01/11/2024   \n",
       "18                          Lesión en el muslo  03/10/2024  03/11/2024   \n",
       "19              Rotura de fibras en el aductor  21/10/2024  04/11/2024   \n",
       "20                         Traumatismo craneal  01/10/2024  04/11/2024   \n",
       "21                          Lesión en el muslo  03/10/2024  07/11/2024   \n",
       "22                          Lesión en el muslo  22/10/2024  12/11/2024   \n",
       "23                             Lesión muscular  17/10/2024  17/11/2024   \n",
       "24                          Lesión en el muslo  15/07/2024  22/11/2024   \n",
       "25                            Lesión de cadera  25/09/2024  25/11/2024   \n",
       "26                          Rotura de tendones  30/09/2024  30/11/2024   \n",
       "27                            Lesión de muñeca  18/07/2024  01/12/2024   \n",
       "28                          Lesión en el muslo  07/10/2024  02/12/2024   \n",
       "29                Rotura del ligamento cruzado  26/04/2024  26/12/2024   \n",
       "30                          Fractura de peroné  06/09/2024  01/01/2025   \n",
       "31            Irritación del tendón de Aquiles  22/08/2024  01/01/2025   \n",
       "32                Rotura del ligamento cruzado  18/12/2023  01/01/2025   \n",
       "33                          Fractura de peroné  02/09/2024  01/01/2025   \n",
       "34                           Lesión de rodilla  03/03/2024  01/03/2025   \n",
       "35                Rotura del ligamento cruzado  02/09/2024  01/05/2025   \n",
       "36              Problemas del talón de Aquiles  13/09/2024  01/05/2025   \n",
       "37                Rotura del ligamento cruzado  06/10/2024  01/07/2025   \n",
       "38                 Rotura del tendón rotuliano  23/09/2024  01/07/2025   \n",
       "39                Rotura del ligamento cruzado  27/10/2024  01/07/2025   \n",
       "40                Rotura del ligamento cruzado  27/08/2024  01/08/2025   \n",
       "\n",
       "    value_(mill._€)  \n",
       "0               6.0  \n",
       "1              25.0  \n",
       "2               1.5  \n",
       "3              20.0  \n",
       "4              18.0  \n",
       "5               3.0  \n",
       "6               5.0  \n",
       "7              30.0  \n",
       "8               1.4  \n",
       "9              12.0  \n",
       "10              1.0  \n",
       "11              3.5  \n",
       "12             15.0  \n",
       "13              3.0  \n",
       "14              7.5  \n",
       "15             20.0  \n",
       "16              8.0  \n",
       "17             18.0  \n",
       "18             30.0  \n",
       "19              3.0  \n",
       "20             40.0  \n",
       "21             30.0  \n",
       "22            110.0  \n",
       "23              4.0  \n",
       "24             70.0  \n",
       "25              5.0  \n",
       "26              2.0  \n",
       "27             30.0  \n",
       "28             30.0  \n",
       "29              2.0  \n",
       "30              8.0  \n",
       "31             30.0  \n",
       "32             15.0  \n",
       "33              2.4  \n",
       "34              2.0  \n",
       "35              6.0  \n",
       "36              3.0  \n",
       "37             12.0  \n",
       "38             20.0  \n",
       "39              6.0  \n",
       "40              5.0  "
      ]
     },
     "execution_count": 55,
     "metadata": {},
     "output_type": "execute_result"
    }
   ],
   "source": [
    "df_soccer"
   ]
  },
  {
   "cell_type": "code",
   "execution_count": 57,
   "id": "ebde993b-710d-44b5-8cbf-f8672d7d5d78",
   "metadata": {},
   "outputs": [],
   "source": [
    "df_soccer=df_soccer.rename(columns={\"club\":\"team\",\"since\":\"date\"})"
   ]
  },
  {
   "cell_type": "code",
   "execution_count": 61,
   "id": "005c8785-b2bd-43c4-b5bd-d06c27dd9b54",
   "metadata": {},
   "outputs": [],
   "source": [
    "df_basket=df_basket.rename(columns={\"notes\":\"injury\"})"
   ]
  },
  {
   "cell_type": "markdown",
   "id": "59b6457f-5664-48d4-9e6e-156a35b9d7da",
   "metadata": {
    "tags": []
   },
   "source": [
    "## <h2 style=\"color: #008080;\">Creating a new column</h2>"
   ]
  },
  {
   "cell_type": "code",
   "execution_count": 71,
   "id": "b57d13dd-a553-4afd-a9b1-163c3277b486",
   "metadata": {},
   "outputs": [],
   "source": [
    "df_s2=df_soccer.copy()"
   ]
  },
  {
   "cell_type": "code",
   "execution_count": 73,
   "id": "52e1f682-9254-4de8-810a-c9b5e19c9239",
   "metadata": {},
   "outputs": [],
   "source": [
    "df_s2[\"sport\"]=\"soccer\""
   ]
  },
  {
   "cell_type": "code",
   "execution_count": 75,
   "id": "6ec83827-277e-4a67-8a9a-5a0f609285c0",
   "metadata": {},
   "outputs": [
    {
     "data": {
      "text/html": [
       "<div>\n",
       "<style scoped>\n",
       "    .dataframe tbody tr th:only-of-type {\n",
       "        vertical-align: middle;\n",
       "    }\n",
       "\n",
       "    .dataframe tbody tr th {\n",
       "        vertical-align: top;\n",
       "    }\n",
       "\n",
       "    .dataframe thead th {\n",
       "        text-align: right;\n",
       "    }\n",
       "</style>\n",
       "<table border=\"1\" class=\"dataframe\">\n",
       "  <thead>\n",
       "    <tr style=\"text-align: right;\">\n",
       "      <th></th>\n",
       "      <th>name</th>\n",
       "      <th>team</th>\n",
       "      <th>age</th>\n",
       "      <th>country</th>\n",
       "      <th>injury</th>\n",
       "      <th>date</th>\n",
       "      <th>until</th>\n",
       "      <th>value_(mill._€)</th>\n",
       "      <th>sport</th>\n",
       "    </tr>\n",
       "  </thead>\n",
       "  <tbody>\n",
       "    <tr>\n",
       "      <th>0</th>\n",
       "      <td>Chidera Ejuke</td>\n",
       "      <td>Sevilla FC</td>\n",
       "      <td>26</td>\n",
       "      <td>Nigeria</td>\n",
       "      <td>Lesión en el muslo</td>\n",
       "      <td>21/10/2024</td>\n",
       "      <td>NaN</td>\n",
       "      <td>6.0</td>\n",
       "      <td>soccer</td>\n",
       "    </tr>\n",
       "    <tr>\n",
       "      <th>1</th>\n",
       "      <td>Thibaut Courtois</td>\n",
       "      <td>Real Madrid CF</td>\n",
       "      <td>32</td>\n",
       "      <td>Bélgica</td>\n",
       "      <td>Lesión del aductor</td>\n",
       "      <td>23/10/2024</td>\n",
       "      <td>NaN</td>\n",
       "      <td>25.0</td>\n",
       "      <td>soccer</td>\n",
       "    </tr>\n",
       "    <tr>\n",
       "      <th>2</th>\n",
       "      <td>Jailson</td>\n",
       "      <td>RC Celta de Vigo</td>\n",
       "      <td>29</td>\n",
       "      <td>Brasil</td>\n",
       "      <td>Molestias en los aductores</td>\n",
       "      <td>18/10/2024</td>\n",
       "      <td>NaN</td>\n",
       "      <td>1.5</td>\n",
       "      <td>soccer</td>\n",
       "    </tr>\n",
       "    <tr>\n",
       "      <th>3</th>\n",
       "      <td>Giovani Lo Celso</td>\n",
       "      <td>Real Betis Balompié</td>\n",
       "      <td>28</td>\n",
       "      <td>Argentina</td>\n",
       "      <td>Lesión en el muslo</td>\n",
       "      <td>17/10/2024</td>\n",
       "      <td>NaN</td>\n",
       "      <td>20.0</td>\n",
       "      <td>soccer</td>\n",
       "    </tr>\n",
       "    <tr>\n",
       "      <th>4</th>\n",
       "      <td>Yaser Asprilla</td>\n",
       "      <td>Girona FC</td>\n",
       "      <td>20</td>\n",
       "      <td>Italia</td>\n",
       "      <td>Esguince de la articulación del tobillo</td>\n",
       "      <td>11/10/2024</td>\n",
       "      <td>NaN</td>\n",
       "      <td>18.0</td>\n",
       "      <td>soccer</td>\n",
       "    </tr>\n",
       "  </tbody>\n",
       "</table>\n",
       "</div>"
      ],
      "text/plain": [
       "               name                 team  age    country  \\\n",
       "0     Chidera Ejuke           Sevilla FC   26    Nigeria   \n",
       "1  Thibaut Courtois       Real Madrid CF   32    Bélgica   \n",
       "2           Jailson     RC Celta de Vigo   29     Brasil   \n",
       "3  Giovani Lo Celso  Real Betis Balompié   28  Argentina   \n",
       "4    Yaser Asprilla            Girona FC   20     Italia   \n",
       "\n",
       "                                    injury        date until  value_(mill._€)  \\\n",
       "0                       Lesión en el muslo  21/10/2024   NaN              6.0   \n",
       "1                       Lesión del aductor  23/10/2024   NaN             25.0   \n",
       "2               Molestias en los aductores  18/10/2024   NaN              1.5   \n",
       "3                       Lesión en el muslo  17/10/2024   NaN             20.0   \n",
       "4  Esguince de la articulación del tobillo  11/10/2024   NaN             18.0   \n",
       "\n",
       "    sport  \n",
       "0  soccer  \n",
       "1  soccer  \n",
       "2  soccer  \n",
       "3  soccer  \n",
       "4  soccer  "
      ]
     },
     "execution_count": 75,
     "metadata": {},
     "output_type": "execute_result"
    }
   ],
   "source": [
    "df_s2.head()"
   ]
  },
  {
   "cell_type": "code",
   "execution_count": 77,
   "id": "9cb471fc-4a94-4b00-ae27-dc14e213c929",
   "metadata": {},
   "outputs": [],
   "source": [
    "df_b2=df_basket.copy()"
   ]
  },
  {
   "cell_type": "code",
   "execution_count": 79,
   "id": "314e7cef-f7c1-4b84-93e9-d8f1ec2e0aa0",
   "metadata": {},
   "outputs": [],
   "source": [
    "df_b2[\"sport\"]=\"basketball\""
   ]
  },
  {
   "cell_type": "code",
   "execution_count": 81,
   "id": "14c753bb-8e6e-4e04-a0aa-2e4b76d4a9f1",
   "metadata": {},
   "outputs": [
    {
     "data": {
      "text/html": [
       "<div>\n",
       "<style scoped>\n",
       "    .dataframe tbody tr th:only-of-type {\n",
       "        vertical-align: middle;\n",
       "    }\n",
       "\n",
       "    .dataframe tbody tr th {\n",
       "        vertical-align: top;\n",
       "    }\n",
       "\n",
       "    .dataframe thead th {\n",
       "        text-align: right;\n",
       "    }\n",
       "</style>\n",
       "<table border=\"1\" class=\"dataframe\">\n",
       "  <thead>\n",
       "    <tr style=\"text-align: right;\">\n",
       "      <th></th>\n",
       "      <th>name</th>\n",
       "      <th>team</th>\n",
       "      <th>position</th>\n",
       "      <th>date</th>\n",
       "      <th>injury</th>\n",
       "      <th>sport</th>\n",
       "    </tr>\n",
       "  </thead>\n",
       "  <tbody>\n",
       "    <tr>\n",
       "      <th>0</th>\n",
       "      <td>Jaylen Brown</td>\n",
       "      <td>Boston Celtics</td>\n",
       "      <td>SG</td>\n",
       "      <td>11/01/2017</td>\n",
       "      <td>sprained right ankle (DTD)</td>\n",
       "      <td>basketball</td>\n",
       "    </tr>\n",
       "    <tr>\n",
       "      <th>1</th>\n",
       "      <td>Jaylen Brown</td>\n",
       "      <td>Boston Celtics</td>\n",
       "      <td>SG</td>\n",
       "      <td>13/01/2017</td>\n",
       "      <td>returned to lineup</td>\n",
       "      <td>basketball</td>\n",
       "    </tr>\n",
       "    <tr>\n",
       "      <th>2</th>\n",
       "      <td>Jaylen Brown</td>\n",
       "      <td>Boston Celtics</td>\n",
       "      <td>SG</td>\n",
       "      <td>13/02/2017</td>\n",
       "      <td>placed on IL with strained right hip flexor</td>\n",
       "      <td>basketball</td>\n",
       "    </tr>\n",
       "    <tr>\n",
       "      <th>3</th>\n",
       "      <td>Jaylen Brown</td>\n",
       "      <td>Boston Celtics</td>\n",
       "      <td>SG</td>\n",
       "      <td>24/02/2017</td>\n",
       "      <td>activated from IL</td>\n",
       "      <td>basketball</td>\n",
       "    </tr>\n",
       "    <tr>\n",
       "      <th>4</th>\n",
       "      <td>Jaylen Brown</td>\n",
       "      <td>Boston Celtics</td>\n",
       "      <td>SG</td>\n",
       "      <td>06/12/2017</td>\n",
       "      <td>placed on IL with right eye inflammation</td>\n",
       "      <td>basketball</td>\n",
       "    </tr>\n",
       "  </tbody>\n",
       "</table>\n",
       "</div>"
      ],
      "text/plain": [
       "           name            team position        date  \\\n",
       "0  Jaylen Brown  Boston Celtics       SG  11/01/2017   \n",
       "1  Jaylen Brown  Boston Celtics       SG  13/01/2017   \n",
       "2  Jaylen Brown  Boston Celtics       SG  13/02/2017   \n",
       "3  Jaylen Brown  Boston Celtics       SG  24/02/2017   \n",
       "4  Jaylen Brown  Boston Celtics       SG  06/12/2017   \n",
       "\n",
       "                                        injury       sport  \n",
       "0                   sprained right ankle (DTD)  basketball  \n",
       "1                           returned to lineup  basketball  \n",
       "2  placed on IL with strained right hip flexor  basketball  \n",
       "3                            activated from IL  basketball  \n",
       "4     placed on IL with right eye inflammation  basketball  "
      ]
     },
     "execution_count": 81,
     "metadata": {},
     "output_type": "execute_result"
    }
   ],
   "source": [
    "df_b2.head()"
   ]
  },
  {
   "cell_type": "markdown",
   "id": "bfb7e68b-cae2-47c5-b31b-5c3648b565bb",
   "metadata": {
    "tags": []
   },
   "source": [
    "## <h2 style=\"color: #008080;\">Dropping non common columns</h2>"
   ]
  },
  {
   "cell_type": "code",
   "execution_count": 85,
   "id": "feb486b9-1c17-48e0-a29a-32b8706c4cd4",
   "metadata": {},
   "outputs": [],
   "source": [
    "df_s3=df_s2.copy()\n",
    "df_s3=df_s3.drop(columns=[\"age\",\"country\",\"until\",\"value_(mill._€)\"])"
   ]
  },
  {
   "cell_type": "code",
   "execution_count": 87,
   "id": "4997a15f-d2ba-41f1-8c60-97a261695323",
   "metadata": {},
   "outputs": [],
   "source": [
    "df_b3=df_b2.copy()\n",
    "df_b3=df_b3.drop(columns=[\"position\"])"
   ]
  },
  {
   "cell_type": "code",
   "execution_count": 99,
   "id": "cd0f3c9a-66ae-4bc8-90d2-cc2f34aa8404",
   "metadata": {},
   "outputs": [
    {
     "data": {
      "text/html": [
       "<div>\n",
       "<style scoped>\n",
       "    .dataframe tbody tr th:only-of-type {\n",
       "        vertical-align: middle;\n",
       "    }\n",
       "\n",
       "    .dataframe tbody tr th {\n",
       "        vertical-align: top;\n",
       "    }\n",
       "\n",
       "    .dataframe thead th {\n",
       "        text-align: right;\n",
       "    }\n",
       "</style>\n",
       "<table border=\"1\" class=\"dataframe\">\n",
       "  <thead>\n",
       "    <tr style=\"text-align: right;\">\n",
       "      <th></th>\n",
       "      <th>name</th>\n",
       "      <th>team</th>\n",
       "      <th>injury</th>\n",
       "      <th>date</th>\n",
       "      <th>sport</th>\n",
       "    </tr>\n",
       "  </thead>\n",
       "  <tbody>\n",
       "    <tr>\n",
       "      <th>0</th>\n",
       "      <td>Chidera Ejuke</td>\n",
       "      <td>Sevilla FC</td>\n",
       "      <td>Lesión en el muslo</td>\n",
       "      <td>21/10/2024</td>\n",
       "      <td>soccer</td>\n",
       "    </tr>\n",
       "    <tr>\n",
       "      <th>1</th>\n",
       "      <td>Thibaut Courtois</td>\n",
       "      <td>Real Madrid CF</td>\n",
       "      <td>Lesión del aductor</td>\n",
       "      <td>23/10/2024</td>\n",
       "      <td>soccer</td>\n",
       "    </tr>\n",
       "    <tr>\n",
       "      <th>2</th>\n",
       "      <td>Jailson</td>\n",
       "      <td>RC Celta de Vigo</td>\n",
       "      <td>Molestias en los aductores</td>\n",
       "      <td>18/10/2024</td>\n",
       "      <td>soccer</td>\n",
       "    </tr>\n",
       "    <tr>\n",
       "      <th>3</th>\n",
       "      <td>Giovani Lo Celso</td>\n",
       "      <td>Real Betis Balompié</td>\n",
       "      <td>Lesión en el muslo</td>\n",
       "      <td>17/10/2024</td>\n",
       "      <td>soccer</td>\n",
       "    </tr>\n",
       "    <tr>\n",
       "      <th>4</th>\n",
       "      <td>Yaser Asprilla</td>\n",
       "      <td>Girona FC</td>\n",
       "      <td>Esguince de la articulación del tobillo</td>\n",
       "      <td>11/10/2024</td>\n",
       "      <td>soccer</td>\n",
       "    </tr>\n",
       "  </tbody>\n",
       "</table>\n",
       "</div>"
      ],
      "text/plain": [
       "               name                 team  \\\n",
       "0     Chidera Ejuke           Sevilla FC   \n",
       "1  Thibaut Courtois       Real Madrid CF   \n",
       "2           Jailson     RC Celta de Vigo   \n",
       "3  Giovani Lo Celso  Real Betis Balompié   \n",
       "4    Yaser Asprilla            Girona FC   \n",
       "\n",
       "                                    injury        date   sport  \n",
       "0                       Lesión en el muslo  21/10/2024  soccer  \n",
       "1                       Lesión del aductor  23/10/2024  soccer  \n",
       "2               Molestias en los aductores  18/10/2024  soccer  \n",
       "3                       Lesión en el muslo  17/10/2024  soccer  \n",
       "4  Esguince de la articulación del tobillo  11/10/2024  soccer  "
      ]
     },
     "execution_count": 99,
     "metadata": {},
     "output_type": "execute_result"
    }
   ],
   "source": [
    "df_s3.head()"
   ]
  },
  {
   "cell_type": "code",
   "execution_count": 93,
   "id": "a327c43f-ca8e-418a-9730-08398e459458",
   "metadata": {},
   "outputs": [
    {
     "data": {
      "text/html": [
       "<div>\n",
       "<style scoped>\n",
       "    .dataframe tbody tr th:only-of-type {\n",
       "        vertical-align: middle;\n",
       "    }\n",
       "\n",
       "    .dataframe tbody tr th {\n",
       "        vertical-align: top;\n",
       "    }\n",
       "\n",
       "    .dataframe thead th {\n",
       "        text-align: right;\n",
       "    }\n",
       "</style>\n",
       "<table border=\"1\" class=\"dataframe\">\n",
       "  <thead>\n",
       "    <tr style=\"text-align: right;\">\n",
       "      <th></th>\n",
       "      <th>name</th>\n",
       "      <th>team</th>\n",
       "      <th>date</th>\n",
       "      <th>injury</th>\n",
       "      <th>sport</th>\n",
       "    </tr>\n",
       "  </thead>\n",
       "  <tbody>\n",
       "    <tr>\n",
       "      <th>0</th>\n",
       "      <td>Jaylen Brown</td>\n",
       "      <td>Boston Celtics</td>\n",
       "      <td>11/01/2017</td>\n",
       "      <td>sprained right ankle (DTD)</td>\n",
       "      <td>basketball</td>\n",
       "    </tr>\n",
       "    <tr>\n",
       "      <th>1</th>\n",
       "      <td>Jaylen Brown</td>\n",
       "      <td>Boston Celtics</td>\n",
       "      <td>13/01/2017</td>\n",
       "      <td>returned to lineup</td>\n",
       "      <td>basketball</td>\n",
       "    </tr>\n",
       "    <tr>\n",
       "      <th>2</th>\n",
       "      <td>Jaylen Brown</td>\n",
       "      <td>Boston Celtics</td>\n",
       "      <td>13/02/2017</td>\n",
       "      <td>placed on IL with strained right hip flexor</td>\n",
       "      <td>basketball</td>\n",
       "    </tr>\n",
       "    <tr>\n",
       "      <th>3</th>\n",
       "      <td>Jaylen Brown</td>\n",
       "      <td>Boston Celtics</td>\n",
       "      <td>24/02/2017</td>\n",
       "      <td>activated from IL</td>\n",
       "      <td>basketball</td>\n",
       "    </tr>\n",
       "    <tr>\n",
       "      <th>4</th>\n",
       "      <td>Jaylen Brown</td>\n",
       "      <td>Boston Celtics</td>\n",
       "      <td>06/12/2017</td>\n",
       "      <td>placed on IL with right eye inflammation</td>\n",
       "      <td>basketball</td>\n",
       "    </tr>\n",
       "  </tbody>\n",
       "</table>\n",
       "</div>"
      ],
      "text/plain": [
       "           name            team        date  \\\n",
       "0  Jaylen Brown  Boston Celtics  11/01/2017   \n",
       "1  Jaylen Brown  Boston Celtics  13/01/2017   \n",
       "2  Jaylen Brown  Boston Celtics  13/02/2017   \n",
       "3  Jaylen Brown  Boston Celtics  24/02/2017   \n",
       "4  Jaylen Brown  Boston Celtics  06/12/2017   \n",
       "\n",
       "                                        injury       sport  \n",
       "0                   sprained right ankle (DTD)  basketball  \n",
       "1                           returned to lineup  basketball  \n",
       "2  placed on IL with strained right hip flexor  basketball  \n",
       "3                            activated from IL  basketball  \n",
       "4     placed on IL with right eye inflammation  basketball  "
      ]
     },
     "execution_count": 93,
     "metadata": {},
     "output_type": "execute_result"
    }
   ],
   "source": [
    "df_b3.head()"
   ]
  },
  {
   "cell_type": "code",
   "execution_count": 95,
   "id": "662aa345-90a5-414a-ab7a-f64afb114ded",
   "metadata": {},
   "outputs": [],
   "source": [
    "df_s4=df_s3.copy()\n",
    "df_b4=df_b3.copy()\n",
    "df_s4=df_s4[[\"name\",\"team\",\"date\",\"injury\",\"sport\"]]"
   ]
  },
  {
   "cell_type": "markdown",
   "id": "ff7c929c-4791-4f44-92ab-5569b3fc1810",
   "metadata": {
    "jp-MarkdownHeadingCollapsed": true,
    "tags": []
   },
   "source": [
    "## <h2 style=\"color: #008080;\">Binning Soccer Values</h2>"
   ]
  },
  {
   "cell_type": "markdown",
   "id": "897cc6a8-9409-4ffe-9b8a-ac1e119369fb",
   "metadata": {},
   "source": [
    "Since they are in different languages, I'll do it separately before concatenating"
   ]
  },
  {
   "cell_type": "code",
   "execution_count": 109,
   "id": "efc39110-e3c8-4806-8a9f-3364d3c867ff",
   "metadata": {},
   "outputs": [],
   "source": [
    "df_s5=df_s4.copy()\n",
    "df_b5=df_b4.copy()"
   ]
  },
  {
   "cell_type": "code",
   "execution_count": 223,
   "id": "1e9e2948-0da1-4cf6-b9cd-750f330da04f",
   "metadata": {
    "scrolled": true
   },
   "outputs": [
    {
     "data": {
      "text/plain": [
       "injury\n",
       "thigh                8\n",
       "cruciate_ligament    6\n",
       "adductors            4\n",
       "ankle                3\n",
       "muscle_injury        3\n",
       "knee                 3\n",
       "achilles_tendon      2\n",
       "fibula               2\n",
       "tendon tear          2\n",
       "hip                  1\n",
       "wrist                1\n",
       "bone_edema           1\n",
       "head_trauma          1\n",
       "calf                 1\n",
       "blow                 1\n",
       "unknown              1\n",
       "patellar_tendon      1\n",
       "Name: count, dtype: int64"
      ]
     },
     "execution_count": 223,
     "metadata": {},
     "output_type": "execute_result"
    }
   ],
   "source": [
    "df_s5.injury.value_counts()"
   ]
  },
  {
   "cell_type": "code",
   "execution_count": 149,
   "id": "4059d109-e218-4b10-9c67-0b7803ca3123",
   "metadata": {},
   "outputs": [],
   "source": [
    "df_s5['injury'] = df_s5['injury'].str.replace(r'.*Muslo.*', 'thigh', regex=True)"
   ]
  },
  {
   "cell_type": "code",
   "execution_count": 179,
   "id": "94a1a094-ec31-49dc-a7e4-1f7e36068a5d",
   "metadata": {},
   "outputs": [],
   "source": [
    "df_s5['injury'] = df_s5['injury'].str.replace(r'.*cruciate ligament.*', 'cruciate_ligament', regex=True)"
   ]
  },
  {
   "cell_type": "code",
   "execution_count": 145,
   "id": "9497473e-63e5-4a26-84c6-c0a29bd16dde",
   "metadata": {},
   "outputs": [],
   "source": [
    "df_s5['injury'] = df_s5['injury'].str.replace(r'.*Rodilla.*', 'knee', regex=True)"
   ]
  },
  {
   "cell_type": "code",
   "execution_count": 129,
   "id": "421e94f9-a8af-4b85-954b-05f41bfc1a55",
   "metadata": {},
   "outputs": [],
   "source": [
    "df_s5['injury'] = df_s5['injury'].str.replace(r'.*Rotura de tendones.*', 'tendon tear', regex=True)"
   ]
  },
  {
   "cell_type": "code",
   "execution_count": 141,
   "id": "3755cb34-a356-4c3f-a0be-ee28b5160fb4",
   "metadata": {},
   "outputs": [],
   "source": [
    "df_s5['injury'] = df_s5['injury'].str.replace(r'.*aductor.*', 'adductors', regex=True)"
   ]
  },
  {
   "cell_type": "code",
   "execution_count": 153,
   "id": "5a04394e-c7ba-489c-b114-a28ff70d90b6",
   "metadata": {},
   "outputs": [],
   "source": [
    "df_s5['injury'] = df_s5['injury'].str.replace(r'.*peroné.*', 'fibula', regex=True)"
   ]
  },
  {
   "cell_type": "code",
   "execution_count": 155,
   "id": "d08589a7-ecf7-44dd-8ce0-78b2e8abadbc",
   "metadata": {},
   "outputs": [],
   "source": [
    "df_s5['injury'] = df_s5['injury'].str.replace(r'.*tobillo.*', 'ankle', regex=True)"
   ]
  },
  {
   "cell_type": "code",
   "execution_count": 159,
   "id": "3a9811b8-dd6d-4ba1-a206-1fe224997240",
   "metadata": {},
   "outputs": [],
   "source": [
    "df_s5['injury'] = df_s5['injury'].str.replace(r'.*muñeca.*', 'wrist', regex=True)"
   ]
  },
  {
   "cell_type": "code",
   "execution_count": 167,
   "id": "4f9f6540-ae3f-45b7-8c7e-e5f255c59491",
   "metadata": {},
   "outputs": [],
   "source": [
    "df_s5['injury'] = df_s5['injury'].str.replace(r'.*Gemelo.*', 'calf', regex=True)"
   ]
  },
  {
   "cell_type": "code",
   "execution_count": 175,
   "id": "3a59a0f7-b046-4a62-9054-c3c5271b109c",
   "metadata": {},
   "outputs": [],
   "source": [
    "df_s5['injury'] = df_s5['injury'].str.replace(r'.*Aquiles.*', 'achilles_tendon', regex=True)"
   ]
  },
  {
   "cell_type": "code",
   "execution_count": 175,
   "id": "da3406e6-eb91-4a82-b17f-cdefe56f29c4",
   "metadata": {},
   "outputs": [],
   "source": [
    "df_s5['injury'] = df_s5['injury'].str.replace(r'.*Aquiles.*', 'achilles_tendon', regex=True)"
   ]
  },
  {
   "cell_type": "code",
   "execution_count": 183,
   "id": "d79eaa4b-6e95-4e18-8201-c72b5a08707a",
   "metadata": {},
   "outputs": [],
   "source": [
    "df_s5['injury'] = df_s5['injury'].str.replace(r'.*Lesión muscular.*', 'muscle_injury', regex=True)"
   ]
  },
  {
   "cell_type": "code",
   "execution_count": 193,
   "id": "d42bbfeb-5c11-4ba5-bc71-b1e8277301ac",
   "metadata": {},
   "outputs": [],
   "source": [
    "df_s5['injury'] = df_s5['injury'].str.replace(r'.*Problemas musculares.*', 'muscle_injury', regex=True)"
   ]
  },
  {
   "cell_type": "code",
   "execution_count": 189,
   "id": "e9d09418-81c6-4e3b-ab3a-d4996413ca9e",
   "metadata": {},
   "outputs": [],
   "source": [
    "df_s5['injury'] = df_s5['injury'].str.replace(r'.*cadera.*', 'hip', regex=True)"
   ]
  },
  {
   "cell_type": "code",
   "execution_count": 201,
   "id": "fc5b18c2-7794-4113-b1bb-198a6c24f862",
   "metadata": {},
   "outputs": [],
   "source": [
    "df_s5['injury'] = df_s5['injury'].str.replace(r'.*patellar tendon.*', 'patellar_tendon', regex=True)"
   ]
  },
  {
   "cell_type": "code",
   "execution_count": 205,
   "id": "f1e3f2c3-9f7e-4d8d-b205-b8a34d6f0c52",
   "metadata": {},
   "outputs": [],
   "source": [
    "df_s5['injury'] = df_s5['injury'].str.replace(r'.*Edema óseo.*', 'bone_edema', regex=True)"
   ]
  },
  {
   "cell_type": "code",
   "execution_count": 213,
   "id": "8c05005f-42e8-4973-9bbe-1995e75d8407",
   "metadata": {},
   "outputs": [],
   "source": [
    "df_s5['injury'] = df_s5['injury'].str.replace(r'.*head_injury.*', 'head_trauma', regex=True)"
   ]
  },
  {
   "cell_type": "code",
   "execution_count": 217,
   "id": "b27e75c0-8f86-4695-a142-725555f3c654",
   "metadata": {},
   "outputs": [],
   "source": [
    "df_s5['injury'] = df_s5['injury'].str.replace(r'.*Lesión desconocida.*', 'unknown', regex=True)"
   ]
  },
  {
   "cell_type": "code",
   "execution_count": 221,
   "id": "5fd9c17d-ceba-468b-9425-f632258975fd",
   "metadata": {},
   "outputs": [],
   "source": [
    "df_s5['injury'] = df_s5['injury'].str.replace(r'.*Golpe.*', 'blow', regex=True)"
   ]
  },
  {
   "cell_type": "raw",
   "id": "37f8c9e9-afb9-47bf-b61a-01280dcfd9f5",
   "metadata": {},
   "source": [
    "df['type'] = df['type'].str.replace(r'.*Under investigation.*', 'Questionable', regex=True)"
   ]
  },
  {
   "cell_type": "markdown",
   "id": "bc2d8df8-6612-48a8-ba8b-d58d8f087245",
   "metadata": {
    "tags": []
   },
   "source": [
    "## <h2 style=\"color: #008080;\">Binning Basketball Values</h2>"
   ]
  },
  {
   "cell_type": "code",
   "execution_count": 599,
   "id": "c5ece4aa-ad81-41be-aa05-54933bd74711",
   "metadata": {},
   "outputs": [
    {
     "data": {
      "text/plain": [
       "injury\n",
       "activated_from_il                                    3533\n",
       "ankle                                                 922\n",
       "knee                                                  883\n",
       "placed on IL                                          627\n",
       "back                                                  305\n",
       "                                                     ... \n",
       "placed on IL with toothache                             1\n",
       "metatarsal inflammation (DTD)                           1\n",
       "strep throat (already on IL)                            1\n",
       "placed on IL with sternum injury                        1\n",
       "placed on IL with thoracic spasm (out for season)       1\n",
       "Name: count, Length: 224, dtype: int64"
      ]
     },
     "execution_count": 599,
     "metadata": {},
     "output_type": "execute_result"
    }
   ],
   "source": [
    "df_b5.injury.value_counts()"
   ]
  },
  {
   "cell_type": "code",
   "execution_count": 233,
   "id": "d63e2ea4-1a50-499b-8756-c94c6629d9f4",
   "metadata": {},
   "outputs": [],
   "source": [
    "df_b5['injury'] = df_b5['injury'].str.replace(r'.*activated from IL.*', 'activated_from_il', regex=True)"
   ]
  },
  {
   "cell_type": "code",
   "execution_count": 265,
   "id": "8b1823fe-83bb-4f50-8efe-2ea986848484",
   "metadata": {
    "scrolled": true
   },
   "outputs": [
    {
     "data": {
      "text/plain": [
       "['activated_from_il']"
      ]
     },
     "execution_count": 265,
     "metadata": {},
     "output_type": "execute_result"
    }
   ],
   "source": [
    "list(df_b5[df_b5.injury.str.contains(\"_\")].injury.sort_values().unique())"
   ]
  },
  {
   "cell_type": "code",
   "execution_count": 239,
   "id": "fafca460-48c0-49df-b978-72a749d663eb",
   "metadata": {},
   "outputs": [],
   "source": [
    "df_b5['injury'] = df_b5['injury'].str.replace(r'.*returned to lineup.*', 'activated_from_il', regex=True)"
   ]
  },
  {
   "cell_type": "code",
   "execution_count": 269,
   "id": "94b23501-ef29-4384-bd97-9e2c3cdb9c92",
   "metadata": {},
   "outputs": [],
   "source": [
    "df_b5['injury'] = df_b5['injury'].str.replace(r'.*Thigh.*', 'thigh', regex=True)"
   ]
  },
  {
   "cell_type": "code",
   "execution_count": 275,
   "id": "500dbd5f-6fa4-4a3f-8651-6166f4ab2bee",
   "metadata": {},
   "outputs": [],
   "source": [
    "df_b5['injury'] = df_b5['injury'].str.replace(r'.*Ankle.*', 'ankle', regex=True)"
   ]
  },
  {
   "cell_type": "code",
   "execution_count": 281,
   "id": "c6eab3c2-499a-4aa9-b1be-132d26caf455",
   "metadata": {},
   "outputs": [],
   "source": [
    "df_b5['injury'] = df_b5['injury'].str.replace(r'.*shoulder.*', 'shoulder', regex=True)"
   ]
  },
  {
   "cell_type": "code",
   "execution_count": 287,
   "id": "cda7e85c-10cf-49e5-af62-14fb936973c4",
   "metadata": {},
   "outputs": [],
   "source": [
    "df_b5['injury'] = df_b5['injury'].str.replace(r'.*finger.*', 'finger', regex=True)"
   ]
  },
  {
   "cell_type": "code",
   "execution_count": 295,
   "id": "239dc040-dd87-4072-a9e8-94d21e2d9aaa",
   "metadata": {},
   "outputs": [],
   "source": [
    "df_b5['injury'] = df_b5['injury'].str.replace(r'.*Hip.*', 'hip', regex=True)"
   ]
  },
  {
   "cell_type": "code",
   "execution_count": 295,
   "id": "25b327ac-442c-4c41-b410-94e2810a8f77",
   "metadata": {},
   "outputs": [],
   "source": [
    "df_b5['injury'] = df_b5['injury'].str.replace(r'.*Hip.*', 'hip', regex=True)"
   ]
  },
  {
   "cell_type": "code",
   "execution_count": 303,
   "id": "54b60f59-3925-4b87-ad1d-bc9a2d18ddeb",
   "metadata": {},
   "outputs": [],
   "source": [
    "df_b5['injury'] = df_b5['injury'].str.replace(r'.*Groin.*', 'groin', regex=True)"
   ]
  },
  {
   "cell_type": "code",
   "execution_count": 315,
   "id": "ab9e8386-e9c7-4e91-982b-ac1bf6ba829e",
   "metadata": {},
   "outputs": [],
   "source": [
    "df_b5['injury'] = df_b5['injury'].str.replace(r'.*knee.*', 'knee', regex=True)"
   ]
  },
  {
   "cell_type": "code",
   "execution_count": 321,
   "id": "d79805aa-63bf-42af-89c8-574d057b3eec",
   "metadata": {},
   "outputs": [],
   "source": [
    "df_b5['injury'] = df_b5['injury'].str.replace(r'.*Thumb.*', 'thumb', regex=True)"
   ]
  },
  {
   "cell_type": "code",
   "execution_count": 333,
   "id": "b643dea5-b0bb-4fc5-8c5f-9cc7c242f285",
   "metadata": {},
   "outputs": [],
   "source": [
    "df_b5['injury'] = df_b5['injury'].str.replace(r'.*gluteus.*', 'gluteus', regex=True)"
   ]
  },
  {
   "cell_type": "code",
   "execution_count": 339,
   "id": "5c1ecdfb-dc53-4f21-9ae4-cd6f1fc5abe7",
   "metadata": {},
   "outputs": [],
   "source": [
    "df_b5['injury'] = df_b5['injury'].str.replace(r'.*Virus.*', 'virus', regex=True)"
   ]
  },
  {
   "cell_type": "code",
   "execution_count": 345,
   "id": "92f86d84-a902-4d38-b422-00f7a6ea737a",
   "metadata": {},
   "outputs": [],
   "source": [
    "df_b5['injury'] = df_b5['injury'].str.replace(r'.*Oblique.*', 'oblique', regex=True)"
   ]
  },
  {
   "cell_type": "code",
   "execution_count": 357,
   "id": "12a46036-89cc-4875-90d4-daacd5b8a299",
   "metadata": {},
   "outputs": [],
   "source": [
    "df_b5['injury'] = df_b5['injury'].str.replace(r'.*Foot.*', 'foot', regex=True)"
   ]
  },
  {
   "cell_type": "code",
   "execution_count": 369,
   "id": "7b4cc768-998a-4202-ad94-b46250a6297c",
   "metadata": {},
   "outputs": [],
   "source": [
    "df_b5['injury'] = df_b5['injury'].str.replace(r'.*Lower back.*', 'lower_back', regex=True)"
   ]
  },
  {
   "cell_type": "code",
   "execution_count": 377,
   "id": "6d8184aa-9def-453d-ac26-b892d100f8aa",
   "metadata": {},
   "outputs": [],
   "source": [
    "df_b5['injury'] = df_b5['injury'].str.replace(r'.*achilles.*', 'achilles', regex=True)"
   ]
  },
  {
   "cell_type": "code",
   "execution_count": 385,
   "id": "bcba815e-db8c-4a11-90ba-0bf63186bd1d",
   "metadata": {},
   "outputs": [],
   "source": [
    "df_b5['injury'] = df_b5['injury'].str.replace(r'.*Elbow.*', 'elbow', regex=True)"
   ]
  },
  {
   "cell_type": "code",
   "execution_count": 391,
   "id": "7366d593-1fd5-45e7-af0b-53307059bb38",
   "metadata": {},
   "outputs": [],
   "source": [
    "df_b5['injury'] = df_b5['injury'].str.replace(r'.*Hamstring.*', 'hamstring', regex=True)"
   ]
  },
  {
   "cell_type": "code",
   "execution_count": 399,
   "id": "95a1199d-fc89-4403-92d6-ab2d0f46d8f4",
   "metadata": {},
   "outputs": [],
   "source": [
    "df_b5['injury'] = df_b5['injury'].str.replace(r'.*Facial fracture.*', 'facial_fracture', regex=True)"
   ]
  },
  {
   "cell_type": "code",
   "execution_count": 405,
   "id": "9739ff62-ace1-42ff-915d-3390d4e58383",
   "metadata": {},
   "outputs": [],
   "source": [
    "df_b5['injury'] = df_b5['injury'].str.replace(r'.*Tibia.*', 'tibia', regex=True)"
   ]
  },
  {
   "cell_type": "code",
   "execution_count": 417,
   "id": "3d13042f-c745-4ab9-9ef8-8ac3e9611d7b",
   "metadata": {},
   "outputs": [],
   "source": [
    "df_b5['injury'] = df_b5['injury'].str.replace(r'.*eye.*', 'eye', regex=True)"
   ]
  },
  {
   "cell_type": "code",
   "execution_count": 425,
   "id": "26d6cf6e-0fa8-4868-85ea-da4ec6248b85",
   "metadata": {},
   "outputs": [],
   "source": [
    "df_b5['injury'] = df_b5['injury'].str.replace(r'.*Thoracic outlet syndrome.*', 'thoracic_outlet_syndrome', regex=True)"
   ]
  },
  {
   "cell_type": "code",
   "execution_count": 431,
   "id": "16223c3b-2e84-4156-b700-8e6c563c5416",
   "metadata": {},
   "outputs": [],
   "source": [
    "df_b5['injury'] = df_b5['injury'].str.replace(r'.*Undisclosed.*', 'undisclosed', regex=True)"
   ]
  },
  {
   "cell_type": "code",
   "execution_count": 437,
   "id": "2cbbbba8-fd54-4d9c-b54b-ec0f5bb29a41",
   "metadata": {},
   "outputs": [],
   "source": [
    "df_b5['injury'] = df_b5['injury'].str.replace(r'.*Orbital bone.*', 'orbital_bone', regex=True)"
   ]
  },
  {
   "cell_type": "code",
   "execution_count": 449,
   "id": "67407e80-edd6-4c31-8fea-9092dd0b84e8",
   "metadata": {},
   "outputs": [],
   "source": [
    "df_b5['injury'] = df_b5['injury'].str.replace(r'.*wrist.*', 'wrist', regex=True)"
   ]
  },
  {
   "cell_type": "code",
   "execution_count": 469,
   "id": "820ecaf5-cd80-49d0-9ec6-49436f6749ae",
   "metadata": {},
   "outputs": [],
   "source": [
    "df_b5['injury'] = df_b5['injury'].str.replace(r'.*Oblique.*', 'abdominal_muscle', regex=True)"
   ]
  },
  {
   "cell_type": "code",
   "execution_count": 473,
   "id": "b14a0290-08ea-4f15-8272-43bb6f895a90",
   "metadata": {},
   "outputs": [],
   "source": [
    "df_b5['injury'] = df_b5['injury'].str.replace(r'.*heel.*', 'heel', regex=True)"
   ]
  },
  {
   "cell_type": "code",
   "execution_count": 477,
   "id": "57cd93f8-f7e4-48f6-be4b-a813df9e93ee",
   "metadata": {},
   "outputs": [],
   "source": [
    "df_b5['injury'] = df_b5['injury'].str.replace(r'.*pectoral.*', 'pectoral_muscle', regex=True)"
   ]
  },
  {
   "cell_type": "code",
   "execution_count": 483,
   "id": "61c079f3-cfc3-44f4-8df6-ded34400e013",
   "metadata": {},
   "outputs": [],
   "source": [
    "df_b5['injury'] = df_b5['injury'].str.replace(r'.*Arm.*', 'arm', regex=True)"
   ]
  },
  {
   "cell_type": "code",
   "execution_count": 487,
   "id": "45de7d12-a090-41bb-9e7c-7b724ccc7d6b",
   "metadata": {},
   "outputs": [],
   "source": [
    "df_b5['injury'] = df_b5['injury'].str.replace(r'.*Leg.*', 'leg', regex=True)"
   ]
  },
  {
   "cell_type": "code",
   "execution_count": 491,
   "id": "53a22987-8583-4163-a68f-0518525ceb19",
   "metadata": {},
   "outputs": [],
   "source": [
    "df_b5['injury'] = df_b5['injury'].str.replace(r'.*hand.*', 'hand', regex=True)"
   ]
  },
  {
   "cell_type": "code",
   "execution_count": 557,
   "id": "7fd40e2d-8fed-42f8-9d2d-783111298ccf",
   "metadata": {},
   "outputs": [],
   "source": [
    "df_b5['injury'] = df_b5['injury'].str.replace(r'.*rib.*', 'rib', regex=True)"
   ]
  },
  {
   "cell_type": "code",
   "execution_count": 527,
   "id": "5d4f8bf5-8fad-444a-a25e-d5ab9720144e",
   "metadata": {},
   "outputs": [],
   "source": [
    "df_b5['injury'] = df_b5['injury'].str.replace(r'.*Hernia.*', 'hernia', regex=True)"
   ]
  },
  {
   "cell_type": "code",
   "execution_count": 531,
   "id": "a46494a1-0137-4e7e-8e91-9489db7c7707",
   "metadata": {},
   "outputs": [],
   "source": [
    "df_b5['injury'] = df_b5['injury'].str.replace(r'.*Toe.*', 'toe', regex=True)"
   ]
  },
  {
   "cell_type": "code",
   "execution_count": 537,
   "id": "f24df213-5210-40f9-9fff-f62ea83998d8",
   "metadata": {},
   "outputs": [],
   "source": [
    "df_b5['injury'] = df_b5['injury'].str.replace(r'.*Stomach.*', 'stomach', regex=True)"
   ]
  },
  {
   "cell_type": "code",
   "execution_count": 543,
   "id": "f7316c9e-7737-48ff-96f8-9b153cbb2945",
   "metadata": {},
   "outputs": [],
   "source": [
    "df_b5['injury'] = df_b5['injury'].str.replace(r'.*Shin.*', 'espinilla', regex=True)"
   ]
  },
  {
   "cell_type": "code",
   "execution_count": 555,
   "id": "7c62df6a-a2b2-40d2-b96c-0b4dccf1f5ac",
   "metadata": {},
   "outputs": [],
   "source": [
    "df_b5['injury'] = df_b5['injury'].str.replace(r'.*Calf.*', 'calf', regex=True)"
   ]
  },
  {
   "cell_type": "code",
   "execution_count": 555,
   "id": "358357b4-970a-4e8a-b953-4973bd3e8716",
   "metadata": {},
   "outputs": [],
   "source": [
    "df_b5['injury'] = df_b5['injury'].str.replace(r'.*Calf.*', 'calf', regex=True)"
   ]
  },
  {
   "cell_type": "code",
   "execution_count": 561,
   "id": "9e7e4917-e790-430f-8fa2-99f8a0ad1969",
   "metadata": {},
   "outputs": [],
   "source": [
    "df_b5['injury'] = df_b5['injury'].str.replace(r'.*triceps.*', 'triceps', regex=True)"
   ]
  },
  {
   "cell_type": "code",
   "execution_count": 569,
   "id": "44d97cf8-bf13-456a-8c5d-872ce3938727",
   "metadata": {},
   "outputs": [],
   "source": [
    "df_b5['injury'] = df_b5['injury'].str.replace(r'.*various injuries.*', 'unkown', regex=True)"
   ]
  },
  {
   "cell_type": "code",
   "execution_count": 573,
   "id": "de0a78ba-d949-4db2-896f-2565dea4ba38",
   "metadata": {},
   "outputs": [],
   "source": [
    "df_b5['injury'] = df_b5['injury'].str.replace(r'.*neck.*', 'neck', regex=True)"
   ]
  },
  {
   "cell_type": "code",
   "execution_count": 581,
   "id": "e445c6f8-47c7-4313-b5e8-ceed2df95e4e",
   "metadata": {},
   "outputs": [],
   "source": [
    "df_b5['injury'] = df_b5['injury'].str.replace(r'.*Back.*', 'back', regex=True)"
   ]
  },
  {
   "cell_type": "code",
   "execution_count": 591,
   "id": "837823b5-1143-4aa8-ae3a-d9427d5791f4",
   "metadata": {},
   "outputs": [],
   "source": [
    "df_b5['injury'] = df_b5['injury'].str.replace(r'.*appendicitis.*', 'appendicitis', regex=True)"
   ]
  },
  {
   "cell_type": "code",
   "execution_count": 595,
   "id": "b0b0c1cd-de02-4523-973b-076a55071fba",
   "metadata": {},
   "outputs": [],
   "source": [
    "df_b5['injury'] = df_b5['injury'].str.replace(r'.*tailbone.*', 'tailbone', regex=True)"
   ]
  },
  {
   "cell_type": "markdown",
   "id": "9ec11519-2223-4caf-b682-2273c67a2b4e",
   "metadata": {
    "tags": []
   },
   "source": [
    "## <h2 style=\"color: #008080;\">Concatenating datasets</h2>"
   ]
  },
  {
   "cell_type": "code",
   "execution_count": 602,
   "id": "ab3468a9-aa91-4152-b5dc-4dcac333e601",
   "metadata": {},
   "outputs": [],
   "source": [
    "df_s6=df_s5.copy()\n",
    "df_b6=df_b5.copy()"
   ]
  },
  {
   "cell_type": "code",
   "execution_count": 605,
   "id": "f97125cf-0e08-42ed-9463-0575dd3eeadf",
   "metadata": {},
   "outputs": [
    {
     "data": {
      "text/html": [
       "<div>\n",
       "<style scoped>\n",
       "    .dataframe tbody tr th:only-of-type {\n",
       "        vertical-align: middle;\n",
       "    }\n",
       "\n",
       "    .dataframe tbody tr th {\n",
       "        vertical-align: top;\n",
       "    }\n",
       "\n",
       "    .dataframe thead th {\n",
       "        text-align: right;\n",
       "    }\n",
       "</style>\n",
       "<table border=\"1\" class=\"dataframe\">\n",
       "  <thead>\n",
       "    <tr style=\"text-align: right;\">\n",
       "      <th></th>\n",
       "      <th>name</th>\n",
       "      <th>team</th>\n",
       "      <th>date</th>\n",
       "      <th>injury</th>\n",
       "      <th>sport</th>\n",
       "    </tr>\n",
       "  </thead>\n",
       "  <tbody>\n",
       "    <tr>\n",
       "      <th>0</th>\n",
       "      <td>Chidera Ejuke</td>\n",
       "      <td>Sevilla FC</td>\n",
       "      <td>21/10/2024</td>\n",
       "      <td>thigh</td>\n",
       "      <td>soccer</td>\n",
       "    </tr>\n",
       "    <tr>\n",
       "      <th>1</th>\n",
       "      <td>Thibaut Courtois</td>\n",
       "      <td>Real Madrid CF</td>\n",
       "      <td>23/10/2024</td>\n",
       "      <td>adductors</td>\n",
       "      <td>soccer</td>\n",
       "    </tr>\n",
       "    <tr>\n",
       "      <th>2</th>\n",
       "      <td>Jailson</td>\n",
       "      <td>RC Celta de Vigo</td>\n",
       "      <td>18/10/2024</td>\n",
       "      <td>adductors</td>\n",
       "      <td>soccer</td>\n",
       "    </tr>\n",
       "    <tr>\n",
       "      <th>3</th>\n",
       "      <td>Giovani Lo Celso</td>\n",
       "      <td>Real Betis Balompié</td>\n",
       "      <td>17/10/2024</td>\n",
       "      <td>thigh</td>\n",
       "      <td>soccer</td>\n",
       "    </tr>\n",
       "    <tr>\n",
       "      <th>4</th>\n",
       "      <td>Yaser Asprilla</td>\n",
       "      <td>Girona FC</td>\n",
       "      <td>11/10/2024</td>\n",
       "      <td>ankle</td>\n",
       "      <td>soccer</td>\n",
       "    </tr>\n",
       "    <tr>\n",
       "      <th>...</th>\n",
       "      <td>...</td>\n",
       "      <td>...</td>\n",
       "      <td>...</td>\n",
       "      <td>...</td>\n",
       "      <td>...</td>\n",
       "    </tr>\n",
       "    <tr>\n",
       "      <th>9316</th>\n",
       "      <td>Hassan Whiteside</td>\n",
       "      <td>Utah Jazz</td>\n",
       "      <td>13/01/2020</td>\n",
       "      <td>activated_from_il</td>\n",
       "      <td>basketball</td>\n",
       "    </tr>\n",
       "    <tr>\n",
       "      <th>9317</th>\n",
       "      <td>Hassan Whiteside</td>\n",
       "      <td>Utah Jazz</td>\n",
       "      <td>07/02/2020</td>\n",
       "      <td>leg</td>\n",
       "      <td>basketball</td>\n",
       "    </tr>\n",
       "    <tr>\n",
       "      <th>9318</th>\n",
       "      <td>Hassan Whiteside</td>\n",
       "      <td>Utah Jazz</td>\n",
       "      <td>11/02/2020</td>\n",
       "      <td>activated_from_il</td>\n",
       "      <td>basketball</td>\n",
       "    </tr>\n",
       "    <tr>\n",
       "      <th>9319</th>\n",
       "      <td>Hassan Whiteside</td>\n",
       "      <td>Utah Jazz</td>\n",
       "      <td>08/08/2020</td>\n",
       "      <td>hip</td>\n",
       "      <td>basketball</td>\n",
       "    </tr>\n",
       "    <tr>\n",
       "      <th>9320</th>\n",
       "      <td>Hassan Whiteside</td>\n",
       "      <td>Utah Jazz</td>\n",
       "      <td>11/08/2020</td>\n",
       "      <td>activated_from_il</td>\n",
       "      <td>basketball</td>\n",
       "    </tr>\n",
       "  </tbody>\n",
       "</table>\n",
       "<p>9321 rows × 5 columns</p>\n",
       "</div>"
      ],
      "text/plain": [
       "                  name                 team        date             injury  \\\n",
       "0        Chidera Ejuke           Sevilla FC  21/10/2024              thigh   \n",
       "1     Thibaut Courtois       Real Madrid CF  23/10/2024          adductors   \n",
       "2              Jailson     RC Celta de Vigo  18/10/2024          adductors   \n",
       "3     Giovani Lo Celso  Real Betis Balompié  17/10/2024              thigh   \n",
       "4       Yaser Asprilla            Girona FC  11/10/2024              ankle   \n",
       "...                ...                  ...         ...                ...   \n",
       "9316  Hassan Whiteside            Utah Jazz  13/01/2020  activated_from_il   \n",
       "9317  Hassan Whiteside            Utah Jazz  07/02/2020                leg   \n",
       "9318  Hassan Whiteside            Utah Jazz  11/02/2020  activated_from_il   \n",
       "9319  Hassan Whiteside            Utah Jazz  08/08/2020                hip   \n",
       "9320  Hassan Whiteside            Utah Jazz  11/08/2020  activated_from_il   \n",
       "\n",
       "           sport  \n",
       "0         soccer  \n",
       "1         soccer  \n",
       "2         soccer  \n",
       "3         soccer  \n",
       "4         soccer  \n",
       "...          ...  \n",
       "9316  basketball  \n",
       "9317  basketball  \n",
       "9318  basketball  \n",
       "9319  basketball  \n",
       "9320  basketball  \n",
       "\n",
       "[9321 rows x 5 columns]"
      ]
     },
     "execution_count": 605,
     "metadata": {},
     "output_type": "execute_result"
    }
   ],
   "source": [
    "df=pd.concat([df_s6,df_b6],ignore_index=True)\n",
    "df"
   ]
  },
  {
   "cell_type": "markdown",
   "id": "e38c0c17-ec29-4ad0-9d39-79a1a2b36217",
   "metadata": {
    "tags": []
   },
   "source": [
    "## <h2 style=\"color: #008080;\">Droping unwanted values</h2>"
   ]
  },
  {
   "cell_type": "markdown",
   "id": "a4757b2f-5dc5-468f-8f91-211c64fa3399",
   "metadata": {},
   "source": [
    "Such as \"activated_from_il\",\"placed on IL\"."
   ]
  },
  {
   "cell_type": "code",
   "execution_count": 651,
   "id": "c4050f1b-471e-4e81-a550-dd129b2f2523",
   "metadata": {},
   "outputs": [],
   "source": [
    "df1=df.copy()\n",
    "df1 = df1[df1[\"injury\"] != \"activated_from_il\"]"
   ]
  },
  {
   "cell_type": "code",
   "execution_count": 653,
   "id": "884ffee9-6ed7-4393-a4e8-a1a9532e059a",
   "metadata": {},
   "outputs": [],
   "source": [
    "df1 = df1[df1[\"injury\"] != \"placed on IL\"]"
   ]
  },
  {
   "cell_type": "code",
   "execution_count": 655,
   "id": "10e62260-826e-4656-93eb-11c3a243899e",
   "metadata": {},
   "outputs": [
    {
     "data": {
      "text/plain": [
       "injury\n",
       "ankle                                                925\n",
       "knee                                                 886\n",
       "back                                                 305\n",
       "shoulder                                             245\n",
       "foot                                                 213\n",
       "                                                    ... \n",
       "appendicitis                                           1\n",
       "bruised right quadriceps (out for season)              1\n",
       "DNP (out for season)                                   1\n",
       "placed on IL with fatigue (out for season)             1\n",
       "placed on IL with thoracic spasm (out for season)      1\n",
       "Name: count, Length: 232, dtype: int64"
      ]
     },
     "execution_count": 655,
     "metadata": {},
     "output_type": "execute_result"
    }
   ],
   "source": [
    "df1.injury.value_counts()"
   ]
  },
  {
   "cell_type": "markdown",
   "id": "51a1b4d5-47a9-44a5-bc54-27ed08bdb49d",
   "metadata": {
    "tags": []
   },
   "source": [
    "## <h2 style=\"color: #008080;\">Formating dates</h2>"
   ]
  },
  {
   "cell_type": "code",
   "execution_count": 660,
   "id": "525dd051-2b29-4506-a0d2-b3f10d390806",
   "metadata": {},
   "outputs": [
    {
     "data": {
      "text/html": [
       "<div>\n",
       "<style scoped>\n",
       "    .dataframe tbody tr th:only-of-type {\n",
       "        vertical-align: middle;\n",
       "    }\n",
       "\n",
       "    .dataframe tbody tr th {\n",
       "        vertical-align: top;\n",
       "    }\n",
       "\n",
       "    .dataframe thead th {\n",
       "        text-align: right;\n",
       "    }\n",
       "</style>\n",
       "<table border=\"1\" class=\"dataframe\">\n",
       "  <thead>\n",
       "    <tr style=\"text-align: right;\">\n",
       "      <th></th>\n",
       "      <th>name</th>\n",
       "      <th>team</th>\n",
       "      <th>date</th>\n",
       "      <th>injury</th>\n",
       "      <th>sport</th>\n",
       "    </tr>\n",
       "  </thead>\n",
       "  <tbody>\n",
       "    <tr>\n",
       "      <th>0</th>\n",
       "      <td>Chidera Ejuke</td>\n",
       "      <td>Sevilla FC</td>\n",
       "      <td>21/10/2024</td>\n",
       "      <td>thigh</td>\n",
       "      <td>soccer</td>\n",
       "    </tr>\n",
       "    <tr>\n",
       "      <th>1</th>\n",
       "      <td>Thibaut Courtois</td>\n",
       "      <td>Real Madrid CF</td>\n",
       "      <td>23/10/2024</td>\n",
       "      <td>adductors</td>\n",
       "      <td>soccer</td>\n",
       "    </tr>\n",
       "    <tr>\n",
       "      <th>2</th>\n",
       "      <td>Jailson</td>\n",
       "      <td>RC Celta de Vigo</td>\n",
       "      <td>18/10/2024</td>\n",
       "      <td>adductors</td>\n",
       "      <td>soccer</td>\n",
       "    </tr>\n",
       "    <tr>\n",
       "      <th>3</th>\n",
       "      <td>Giovani Lo Celso</td>\n",
       "      <td>Real Betis Balompié</td>\n",
       "      <td>17/10/2024</td>\n",
       "      <td>thigh</td>\n",
       "      <td>soccer</td>\n",
       "    </tr>\n",
       "    <tr>\n",
       "      <th>4</th>\n",
       "      <td>Yaser Asprilla</td>\n",
       "      <td>Girona FC</td>\n",
       "      <td>11/10/2024</td>\n",
       "      <td>ankle</td>\n",
       "      <td>soccer</td>\n",
       "    </tr>\n",
       "  </tbody>\n",
       "</table>\n",
       "</div>"
      ],
      "text/plain": [
       "               name                 team        date     injury   sport\n",
       "0     Chidera Ejuke           Sevilla FC  21/10/2024      thigh  soccer\n",
       "1  Thibaut Courtois       Real Madrid CF  23/10/2024  adductors  soccer\n",
       "2           Jailson     RC Celta de Vigo  18/10/2024  adductors  soccer\n",
       "3  Giovani Lo Celso  Real Betis Balompié  17/10/2024      thigh  soccer\n",
       "4    Yaser Asprilla            Girona FC  11/10/2024      ankle  soccer"
      ]
     },
     "execution_count": 660,
     "metadata": {},
     "output_type": "execute_result"
    }
   ],
   "source": [
    "df1.head()"
   ]
  },
  {
   "cell_type": "code",
   "execution_count": 662,
   "id": "b50aba32-9d8f-4dd1-bfd9-bafb9f6954f1",
   "metadata": {},
   "outputs": [
    {
     "name": "stdout",
     "output_type": "stream",
     "text": [
      "<class 'pandas.core.frame.DataFrame'>\n",
      "Index: 5161 entries, 0 to 9319\n",
      "Data columns (total 5 columns):\n",
      " #   Column  Non-Null Count  Dtype \n",
      "---  ------  --------------  ----- \n",
      " 0   name    5161 non-null   object\n",
      " 1   team    5161 non-null   object\n",
      " 2   date    5161 non-null   object\n",
      " 3   injury  5161 non-null   object\n",
      " 4   sport   5161 non-null   object\n",
      "dtypes: object(5)\n",
      "memory usage: 241.9+ KB\n"
     ]
    }
   ],
   "source": [
    "df1.info()"
   ]
  },
  {
   "cell_type": "code",
   "execution_count": 666,
   "id": "50bf012f-6448-4db1-96fc-6e34eaeffa22",
   "metadata": {},
   "outputs": [
    {
     "name": "stderr",
     "output_type": "stream",
     "text": [
      "/tmp/ipykernel_69125/1515862485.py:1: UserWarning: Parsing dates in %d/%m/%Y format when dayfirst=False (the default) was specified. Pass `dayfirst=True` or specify a format to silence this warning.\n",
      "  df1.date=pd.to_datetime(df.date)\n"
     ]
    }
   ],
   "source": [
    "df1.date=pd.to_datetime(df.date)"
   ]
  },
  {
   "cell_type": "code",
   "execution_count": 743,
   "id": "20229eee-f7dc-47fb-8b0c-518af4a6397d",
   "metadata": {},
   "outputs": [],
   "source": [
    "df1.date=pd.to_datetime(df1.date,dayfirst=True)"
   ]
  },
  {
   "cell_type": "code",
   "execution_count": null,
   "id": "4b1fa4a5-d8ba-4eeb-b7cb-152a583f9111",
   "metadata": {},
   "outputs": [],
   "source": [
    "df1.date = df1.date.dt.strftime('%d-%m-%Y')"
   ]
  },
  {
   "cell_type": "code",
   "execution_count": 823,
   "id": "32408fb6-061b-43b0-8a1d-afd36e579b83",
   "metadata": {},
   "outputs": [
    {
     "data": {
      "text/html": [
       "<div>\n",
       "<style scoped>\n",
       "    .dataframe tbody tr th:only-of-type {\n",
       "        vertical-align: middle;\n",
       "    }\n",
       "\n",
       "    .dataframe tbody tr th {\n",
       "        vertical-align: top;\n",
       "    }\n",
       "\n",
       "    .dataframe thead th {\n",
       "        text-align: right;\n",
       "    }\n",
       "</style>\n",
       "<table border=\"1\" class=\"dataframe\">\n",
       "  <thead>\n",
       "    <tr style=\"text-align: right;\">\n",
       "      <th></th>\n",
       "      <th>name</th>\n",
       "      <th>team</th>\n",
       "      <th>date</th>\n",
       "      <th>injury</th>\n",
       "      <th>sport</th>\n",
       "    </tr>\n",
       "  </thead>\n",
       "  <tbody>\n",
       "    <tr>\n",
       "      <th>0</th>\n",
       "      <td>Chidera Ejuke</td>\n",
       "      <td>Sevilla FC</td>\n",
       "      <td>21-10-2024</td>\n",
       "      <td>thigh</td>\n",
       "      <td>soccer</td>\n",
       "    </tr>\n",
       "    <tr>\n",
       "      <th>1</th>\n",
       "      <td>Thibaut Courtois</td>\n",
       "      <td>Real Madrid CF</td>\n",
       "      <td>23-10-2024</td>\n",
       "      <td>adductors</td>\n",
       "      <td>soccer</td>\n",
       "    </tr>\n",
       "    <tr>\n",
       "      <th>2</th>\n",
       "      <td>Jailson</td>\n",
       "      <td>RC Celta de Vigo</td>\n",
       "      <td>18-10-2024</td>\n",
       "      <td>adductors</td>\n",
       "      <td>soccer</td>\n",
       "    </tr>\n",
       "    <tr>\n",
       "      <th>3</th>\n",
       "      <td>Giovani Lo Celso</td>\n",
       "      <td>Real Betis Balompié</td>\n",
       "      <td>17-10-2024</td>\n",
       "      <td>thigh</td>\n",
       "      <td>soccer</td>\n",
       "    </tr>\n",
       "    <tr>\n",
       "      <th>4</th>\n",
       "      <td>Yaser Asprilla</td>\n",
       "      <td>Girona FC</td>\n",
       "      <td>11-10-2024</td>\n",
       "      <td>ankle</td>\n",
       "      <td>soccer</td>\n",
       "    </tr>\n",
       "  </tbody>\n",
       "</table>\n",
       "</div>"
      ],
      "text/plain": [
       "               name                 team        date     injury   sport\n",
       "0     Chidera Ejuke           Sevilla FC  21-10-2024      thigh  soccer\n",
       "1  Thibaut Courtois       Real Madrid CF  23-10-2024  adductors  soccer\n",
       "2           Jailson     RC Celta de Vigo  18-10-2024  adductors  soccer\n",
       "3  Giovani Lo Celso  Real Betis Balompié  17-10-2024      thigh  soccer\n",
       "4    Yaser Asprilla            Girona FC  11-10-2024      ankle  soccer"
      ]
     },
     "execution_count": 823,
     "metadata": {},
     "output_type": "execute_result"
    }
   ],
   "source": [
    "df1.head()"
   ]
  },
  {
   "cell_type": "code",
   "execution_count": 763,
   "id": "a6bae037-402b-46e4-9669-c1e9bf0e124a",
   "metadata": {},
   "outputs": [],
   "source": [
    "# df1.to_csv(\"injuries_concat_29_10.csv\",index=False)"
   ]
  },
  {
   "cell_type": "markdown",
   "id": "1d6f1a01-dcea-488b-900f-202d80651a20",
   "metadata": {
    "tags": []
   },
   "source": [
    "## <h2 style=\"color: #008080;\">Handling the data</h2>"
   ]
  },
  {
   "cell_type": "code",
   "execution_count": 827,
   "id": "c3e5c1b0-0c68-4646-9b13-2d52da7b5731",
   "metadata": {},
   "outputs": [],
   "source": [
    "df1=pd.read_csv(\"injuries_concat_29_10.csv\")"
   ]
  },
  {
   "cell_type": "code",
   "execution_count": 829,
   "id": "86f7b1b5-8bdc-44f8-adea-e375bb1c3886",
   "metadata": {},
   "outputs": [
    {
     "data": {
      "text/plain": [
       "injury\n",
       "ankle                           922\n",
       "knee                            883\n",
       "back                            305\n",
       "shoulder                        245\n",
       "foot                            213\n",
       "hamstring                       196\n",
       "hip                             173\n",
       "rest (DTD)                      147\n",
       "groin                           147\n",
       "placed on IL with illness       117\n",
       "illness (DTD)                    96\n",
       "finger                           95\n",
       "calf                             93\n",
       "wrist                            91\n",
       "hand                             87\n",
       "achilles                         81\n",
       "placed on IL for rest            77\n",
       "toe                              76\n",
       "thumb                            74\n",
       "leg                              67\n",
       "elbow                            63\n",
       "placed on IL with concussion     57\n",
       "thigh                            50\n",
       "concussion (DTD)                 47\n",
       "heel                             36\n",
       "concussion (DNP)                 33\n",
       "neck                             31\n",
       "rest (DNP)                       29\n",
       "virus                            23\n",
       "tibia                            23\n",
       "Name: count, dtype: int64"
      ]
     },
     "execution_count": 829,
     "metadata": {},
     "output_type": "execute_result"
    }
   ],
   "source": [
    "df1[df1[\"sport\"]==\"basketball\"].injury.value_counts().head(30)"
   ]
  },
  {
   "attachments": {},
   "cell_type": "markdown",
   "id": "b2f5a5dc-6042-4a9b-b646-4fcf92310c16",
   "metadata": {
    "jp-MarkdownHeadingCollapsed": true,
    "tags": []
   },
   "source": [
    "## <h2 style=\"color: #008080;\">More binning</h2>"
   ]
  },
  {
   "cell_type": "code",
   "execution_count": 831,
   "id": "c0240ca9-5d53-4bfb-bfa7-80627c2b854c",
   "metadata": {},
   "outputs": [],
   "source": [
    "df1['injury'] = df1['injury'].str.replace(r'.*concussion.*', 'concussion', regex=True)"
   ]
  },
  {
   "cell_type": "code",
   "execution_count": 833,
   "id": "eb563291-2dc5-49d2-bf82-ff188f94b5b9",
   "metadata": {},
   "outputs": [],
   "source": [
    "df1['injury'] = df1['injury'].str.replace(r'.*rest.*', 'unkown', regex=True)"
   ]
  },
  {
   "cell_type": "code",
   "execution_count": 834,
   "id": "40d27173-a60a-4bd7-8c13-094e9d8aece4",
   "metadata": {},
   "outputs": [],
   "source": [
    "df1['injury'] = df1['injury'].str.replace(r'.*illness.*', 'illness', regex=True)"
   ]
  },
  {
   "cell_type": "code",
   "execution_count": 837,
   "id": "f428fab2-a32a-49b3-8fce-a969b28e03e2",
   "metadata": {},
   "outputs": [],
   "source": [
    "df1['injury'] = df1['injury'].str.replace(r'.*DNP.*', 'unkown', regex=True)"
   ]
  },
  {
   "cell_type": "code",
   "execution_count": 839,
   "id": "cc1a981a-a3c5-406f-b18d-28a34d1e0417",
   "metadata": {},
   "outputs": [],
   "source": [
    "df1['injury'] = df1['injury'].str.replace(r'.*flu.*', 'flu', regex=True)"
   ]
  },
  {
   "cell_type": "code",
   "execution_count": 847,
   "id": "3ee04915-b5ab-4f45-8f59-012c7913dc68",
   "metadata": {},
   "outputs": [],
   "source": [
    "df1['injury'] = df1['injury'].str.replace(r'.*espinilla.*', 'shin', regex=True)"
   ]
  },
  {
   "cell_type": "code",
   "execution_count": 869,
   "id": "406d7e4c-1b2e-4685-9a8f-ac7c52955196",
   "metadata": {},
   "outputs": [],
   "source": [
    "df1['injury'] = df1['injury'].str.replace(r'.*quadricep.*', 'quadriceps', regex=True)"
   ]
  },
  {
   "cell_type": "code",
   "execution_count": 877,
   "id": "768244c5-2a65-4d40-a206-6f07a1af621e",
   "metadata": {},
   "outputs": [],
   "source": [
    "df1['injury'] = df1['injury'].str.replace(r'.*gastroenteritis.*', 'gastroenteritis', regex=True)"
   ]
  },
  {
   "cell_type": "code",
   "execution_count": 885,
   "id": "d24a142e-3b3e-4fae-92ff-3c3e3d9b2012",
   "metadata": {},
   "outputs": [],
   "source": [
    "df1['injury'] = df1['injury'].str.replace(r'.*migraine.*', 'migraine', regex=True)"
   ]
  },
  {
   "cell_type": "code",
   "execution_count": 893,
   "id": "5c28db60-b021-448a-90e9-2bb7e6d2c975",
   "metadata": {},
   "outputs": [],
   "source": [
    "df1['injury'] = df1['injury'].str.replace(r'.*IL.*', 'unkown', regex=True)"
   ]
  },
  {
   "cell_type": "code",
   "execution_count": 901,
   "id": "44803227-21fe-4a20-97fb-de4f5c2dfec3",
   "metadata": {},
   "outputs": [],
   "source": [
    "df1['injury'] = df1['injury'].str.replace(r'.*infection.*', 'infection', regex=True)"
   ]
  },
  {
   "cell_type": "code",
   "execution_count": 911,
   "id": "85714843-fed9-464e-9d01-d32c73dff01c",
   "metadata": {},
   "outputs": [],
   "source": [
    "df1['injury'] = df1['injury'].str.replace(r'.*nose.*', 'nose', regex=True)"
   ]
  },
  {
   "cell_type": "code",
   "execution_count": 919,
   "id": "bcaf500b-79a1-4614-b102-c52ab73e7fde",
   "metadata": {},
   "outputs": [],
   "source": [
    "df1['injury'] = df1['injury'].str.replace(r'.*poisoning.*', 'poisoning', regex=True)"
   ]
  },
  {
   "cell_type": "code",
   "execution_count": 927,
   "id": "3715d852-6ac8-4a86-9f9d-b312f0be04e7",
   "metadata": {},
   "outputs": [],
   "source": [
    "df1['injury'] = df1['injury'].str.replace(r'.*jaw.*', 'jaw', regex=True)"
   ]
  },
  {
   "cell_type": "code",
   "execution_count": 945,
   "id": "90e5c67c-efd9-40f0-87ff-98e6ee1b2843",
   "metadata": {},
   "outputs": [],
   "source": [
    "df1['injury'] = df1['injury'].str.replace(r'.*chest.*', 'chest', regex=True)"
   ]
  },
  {
   "cell_type": "code",
   "execution_count": 953,
   "id": "bf82aa03-e2ba-4ce4-802a-be1857a225f3",
   "metadata": {},
   "outputs": [],
   "source": [
    "df1['injury'] = df1['injury'].str.replace(r'.*orbital wall.*', 'orbital_wall', regex=True)"
   ]
  },
  {
   "cell_type": "code",
   "execution_count": 965,
   "id": "d2ed06d8-c3c9-4ffc-908a-df7bdff5c12b",
   "metadata": {},
   "outputs": [],
   "source": [
    "df1['injury'] = df1['injury'].str.replace(r'.*collarbone.*', 'collarbone', regex=True)"
   ]
  },
  {
   "cell_type": "code",
   "execution_count": 967,
   "id": "9f394730-91b2-4749-82f5-a46016149c44",
   "metadata": {},
   "outputs": [],
   "source": [
    "df2=df1.copy()"
   ]
  },
  {
   "cell_type": "code",
   "execution_count": 981,
   "id": "3a2d6cce-c44a-4c16-90b2-4ac24e7d2742",
   "metadata": {},
   "outputs": [],
   "source": [
    "df2 = df2[df2[\"injury\"] != \"unkown\"]"
   ]
  },
  {
   "attachments": {},
   "cell_type": "markdown",
   "id": "49f8a6de-07af-4d58-98b2-79a0634b34d6",
   "metadata": {
    "tags": []
   },
   "source": [
    "## <h2 style=\"color: #008080;\">Handling data AGAIN</h2>"
   ]
  },
  {
   "cell_type": "code",
   "execution_count": 987,
   "id": "7582ce15-4a67-41fd-945d-e94ea80c239b",
   "metadata": {},
   "outputs": [
    {
     "data": {
      "text/plain": [
       "injury\n",
       "ankle         922\n",
       "knee          883\n",
       "back          305\n",
       "shoulder      245\n",
       "illness       234\n",
       "foot          213\n",
       "hamstring     196\n",
       "hip           173\n",
       "concussion    152\n",
       "groin         147\n",
       "finger         95\n",
       "calf           93\n",
       "wrist          91\n",
       "hand           87\n",
       "quadriceps     82\n",
       "achilles       81\n",
       "toe            76\n",
       "Name: count, dtype: int64"
      ]
     },
     "execution_count": 987,
     "metadata": {},
     "output_type": "execute_result"
    }
   ],
   "source": [
    "df2[df2[\"sport\"]==\"basketball\"].injury.value_counts().head(17)"
   ]
  },
  {
   "cell_type": "code",
   "execution_count": 983,
   "id": "2e2bd282-ad6e-4e50-8e82-ed4a899c0208",
   "metadata": {},
   "outputs": [
    {
     "data": {
      "text/plain": [
       "injury\n",
       "thigh                8\n",
       "cruciate_ligament    6\n",
       "adductors            4\n",
       "ankle                3\n",
       "muscle_injury        3\n",
       "knee                 3\n",
       "achilles_tendon      2\n",
       "fibula               2\n",
       "tendon tear          2\n",
       "hip                  1\n",
       "wrist                1\n",
       "bone_edema           1\n",
       "head_trauma          1\n",
       "calf                 1\n",
       "blow                 1\n",
       "unknown              1\n",
       "patellar_tendon      1\n",
       "Name: count, dtype: int64"
      ]
     },
     "execution_count": 983,
     "metadata": {},
     "output_type": "execute_result"
    }
   ],
   "source": [
    "df2[df2[\"sport\"]==\"soccer\"].injury.value_counts().head(50)"
   ]
  },
  {
   "cell_type": "code",
   "execution_count": 973,
   "id": "062ed715-8af4-40e9-8f10-4d7e356b603f",
   "metadata": {},
   "outputs": [
    {
     "data": {
      "text/plain": [
       "41"
      ]
     },
     "execution_count": 973,
     "metadata": {},
     "output_type": "execute_result"
    }
   ],
   "source": [
    "df2[df2[\"sport\"]==\"soccer\"].shape[0]"
   ]
  },
  {
   "cell_type": "code",
   "execution_count": 975,
   "id": "f72ff71d-db5d-41db-b809-8f7d6ae65c7f",
   "metadata": {},
   "outputs": [
    {
     "data": {
      "text/plain": [
       "4718"
      ]
     },
     "execution_count": 975,
     "metadata": {},
     "output_type": "execute_result"
    }
   ],
   "source": [
    "df2[df2[\"sport\"]==\"basketball\"].shape[0]"
   ]
  },
  {
   "cell_type": "code",
   "execution_count": 1004,
   "id": "9f617d45-9a55-42ed-a6d4-07cd99245ace",
   "metadata": {},
   "outputs": [
    {
     "name": "stderr",
     "output_type": "stream",
     "text": [
      "/tmp/ipykernel_69125/1864369712.py:1: UserWarning: Boolean Series key will be reindexed to match DataFrame index.\n",
      "  df2[df[\"sport\"]==\"soccer\"].shape[0]\n"
     ]
    },
    {
     "data": {
      "text/plain": [
       "41"
      ]
     },
     "execution_count": 1004,
     "metadata": {},
     "output_type": "execute_result"
    }
   ],
   "source": [
    "df2[df[\"sport\"]==\"soccer\"].shape[0]"
   ]
  },
  {
   "cell_type": "code",
   "execution_count": 1008,
   "id": "fee6b22a-1937-44f9-909c-f915b0fbc1d3",
   "metadata": {},
   "outputs": [],
   "source": [
    "df3=df2.copy()\n",
    "# df3.to_csv(\"injuries_29_10_2.csv\",index=False)"
   ]
  },
  {
   "cell_type": "markdown",
   "id": "faa21e67-b0a3-4c30-ab9d-19bd49e5e72d",
   "metadata": {},
   "source": [
    "#### We want to make a relation between each of the value_counts() of the footballers' injuries and the total number of records in the subset == soccer."
   ]
  },
  {
   "cell_type": "code",
   "execution_count": 11,
   "id": "85a6f03b-1484-4708-9667-e86e9d00cbd7",
   "metadata": {},
   "outputs": [],
   "source": [
    "import pandas as pd\n",
    "df3=pd.read_csv(\"injuries_29_10_2.csv\")\n",
    "counts_soccer=df3[df3[\"sport\"]==\"soccer\"].injury.value_counts()*100/df3[df3[\"sport\"]==\"soccer\"].shape[0]"
   ]
  },
  {
   "cell_type": "code",
   "execution_count": 12,
   "id": "2f211db9-d5bb-4bb8-8ba5-8deb0a0a8811",
   "metadata": {},
   "outputs": [
    {
     "data": {
      "text/html": [
       "<div>\n",
       "<style scoped>\n",
       "    .dataframe tbody tr th:only-of-type {\n",
       "        vertical-align: middle;\n",
       "    }\n",
       "\n",
       "    .dataframe tbody tr th {\n",
       "        vertical-align: top;\n",
       "    }\n",
       "\n",
       "    .dataframe thead th {\n",
       "        text-align: right;\n",
       "    }\n",
       "</style>\n",
       "<table border=\"1\" class=\"dataframe\">\n",
       "  <thead>\n",
       "    <tr style=\"text-align: right;\">\n",
       "      <th></th>\n",
       "      <th>injury</th>\n",
       "      <th>count</th>\n",
       "    </tr>\n",
       "  </thead>\n",
       "  <tbody>\n",
       "    <tr>\n",
       "      <th>0</th>\n",
       "      <td>thigh</td>\n",
       "      <td>19.512195</td>\n",
       "    </tr>\n",
       "    <tr>\n",
       "      <th>1</th>\n",
       "      <td>cruciate_ligament</td>\n",
       "      <td>14.634146</td>\n",
       "    </tr>\n",
       "    <tr>\n",
       "      <th>2</th>\n",
       "      <td>adductors</td>\n",
       "      <td>9.756098</td>\n",
       "    </tr>\n",
       "    <tr>\n",
       "      <th>3</th>\n",
       "      <td>ankle</td>\n",
       "      <td>7.317073</td>\n",
       "    </tr>\n",
       "    <tr>\n",
       "      <th>4</th>\n",
       "      <td>muscle_injury</td>\n",
       "      <td>7.317073</td>\n",
       "    </tr>\n",
       "    <tr>\n",
       "      <th>5</th>\n",
       "      <td>knee</td>\n",
       "      <td>7.317073</td>\n",
       "    </tr>\n",
       "    <tr>\n",
       "      <th>6</th>\n",
       "      <td>achilles_tendon</td>\n",
       "      <td>4.878049</td>\n",
       "    </tr>\n",
       "    <tr>\n",
       "      <th>7</th>\n",
       "      <td>fibula</td>\n",
       "      <td>4.878049</td>\n",
       "    </tr>\n",
       "    <tr>\n",
       "      <th>8</th>\n",
       "      <td>tendon tear</td>\n",
       "      <td>4.878049</td>\n",
       "    </tr>\n",
       "    <tr>\n",
       "      <th>9</th>\n",
       "      <td>hip</td>\n",
       "      <td>2.439024</td>\n",
       "    </tr>\n",
       "    <tr>\n",
       "      <th>10</th>\n",
       "      <td>wrist</td>\n",
       "      <td>2.439024</td>\n",
       "    </tr>\n",
       "    <tr>\n",
       "      <th>11</th>\n",
       "      <td>bone_edema</td>\n",
       "      <td>2.439024</td>\n",
       "    </tr>\n",
       "    <tr>\n",
       "      <th>12</th>\n",
       "      <td>head_trauma</td>\n",
       "      <td>2.439024</td>\n",
       "    </tr>\n",
       "    <tr>\n",
       "      <th>13</th>\n",
       "      <td>calf</td>\n",
       "      <td>2.439024</td>\n",
       "    </tr>\n",
       "    <tr>\n",
       "      <th>14</th>\n",
       "      <td>blow</td>\n",
       "      <td>2.439024</td>\n",
       "    </tr>\n",
       "    <tr>\n",
       "      <th>15</th>\n",
       "      <td>unknown</td>\n",
       "      <td>2.439024</td>\n",
       "    </tr>\n",
       "    <tr>\n",
       "      <th>16</th>\n",
       "      <td>patellar_tendon</td>\n",
       "      <td>2.439024</td>\n",
       "    </tr>\n",
       "  </tbody>\n",
       "</table>\n",
       "</div>"
      ],
      "text/plain": [
       "               injury      count\n",
       "0               thigh  19.512195\n",
       "1   cruciate_ligament  14.634146\n",
       "2           adductors   9.756098\n",
       "3               ankle   7.317073\n",
       "4       muscle_injury   7.317073\n",
       "5                knee   7.317073\n",
       "6     achilles_tendon   4.878049\n",
       "7              fibula   4.878049\n",
       "8         tendon tear   4.878049\n",
       "9                 hip   2.439024\n",
       "10              wrist   2.439024\n",
       "11         bone_edema   2.439024\n",
       "12        head_trauma   2.439024\n",
       "13               calf   2.439024\n",
       "14               blow   2.439024\n",
       "15            unknown   2.439024\n",
       "16    patellar_tendon   2.439024"
      ]
     },
     "execution_count": 12,
     "metadata": {},
     "output_type": "execute_result"
    }
   ],
   "source": [
    "counts_soccer.reset_index()"
   ]
  },
  {
   "cell_type": "code",
   "execution_count": 13,
   "id": "c5d1ebca-1e28-42b2-9fc4-5f0bf8db61bc",
   "metadata": {},
   "outputs": [],
   "source": [
    "counts_basket=df3[df3[\"sport\"]==\"basketball\"].injury.value_counts()*100/df3[df3[\"sport\"]==\"basketball\"].shape[0]"
   ]
  },
  {
   "cell_type": "code",
   "execution_count": 14,
   "id": "94901331-957c-4899-a62f-c0aea5b9a127",
   "metadata": {},
   "outputs": [
    {
     "data": {
      "text/html": [
       "<div>\n",
       "<style scoped>\n",
       "    .dataframe tbody tr th:only-of-type {\n",
       "        vertical-align: middle;\n",
       "    }\n",
       "\n",
       "    .dataframe tbody tr th {\n",
       "        vertical-align: top;\n",
       "    }\n",
       "\n",
       "    .dataframe thead th {\n",
       "        text-align: right;\n",
       "    }\n",
       "</style>\n",
       "<table border=\"1\" class=\"dataframe\">\n",
       "  <thead>\n",
       "    <tr style=\"text-align: right;\">\n",
       "      <th></th>\n",
       "      <th>injury</th>\n",
       "      <th>count</th>\n",
       "    </tr>\n",
       "  </thead>\n",
       "  <tbody>\n",
       "    <tr>\n",
       "      <th>0</th>\n",
       "      <td>ankle</td>\n",
       "      <td>19.542179</td>\n",
       "    </tr>\n",
       "    <tr>\n",
       "      <th>1</th>\n",
       "      <td>knee</td>\n",
       "      <td>18.715557</td>\n",
       "    </tr>\n",
       "    <tr>\n",
       "      <th>2</th>\n",
       "      <td>back</td>\n",
       "      <td>6.464604</td>\n",
       "    </tr>\n",
       "    <tr>\n",
       "      <th>3</th>\n",
       "      <td>shoulder</td>\n",
       "      <td>5.192878</td>\n",
       "    </tr>\n",
       "    <tr>\n",
       "      <th>4</th>\n",
       "      <td>illness</td>\n",
       "      <td>4.959729</td>\n",
       "    </tr>\n",
       "    <tr>\n",
       "      <th>5</th>\n",
       "      <td>foot</td>\n",
       "      <td>4.514625</td>\n",
       "    </tr>\n",
       "    <tr>\n",
       "      <th>6</th>\n",
       "      <td>hamstring</td>\n",
       "      <td>4.154303</td>\n",
       "    </tr>\n",
       "    <tr>\n",
       "      <th>7</th>\n",
       "      <td>hip</td>\n",
       "      <td>3.666808</td>\n",
       "    </tr>\n",
       "    <tr>\n",
       "      <th>8</th>\n",
       "      <td>concussion</td>\n",
       "      <td>3.221704</td>\n",
       "    </tr>\n",
       "    <tr>\n",
       "      <th>9</th>\n",
       "      <td>groin</td>\n",
       "      <td>3.115727</td>\n",
       "    </tr>\n",
       "    <tr>\n",
       "      <th>10</th>\n",
       "      <td>finger</td>\n",
       "      <td>2.013565</td>\n",
       "    </tr>\n",
       "    <tr>\n",
       "      <th>11</th>\n",
       "      <td>calf</td>\n",
       "      <td>1.971174</td>\n",
       "    </tr>\n",
       "    <tr>\n",
       "      <th>12</th>\n",
       "      <td>wrist</td>\n",
       "      <td>1.928783</td>\n",
       "    </tr>\n",
       "    <tr>\n",
       "      <th>13</th>\n",
       "      <td>hand</td>\n",
       "      <td>1.844002</td>\n",
       "    </tr>\n",
       "    <tr>\n",
       "      <th>14</th>\n",
       "      <td>quadriceps</td>\n",
       "      <td>1.738025</td>\n",
       "    </tr>\n",
       "    <tr>\n",
       "      <th>15</th>\n",
       "      <td>achilles</td>\n",
       "      <td>1.716829</td>\n",
       "    </tr>\n",
       "    <tr>\n",
       "      <th>16</th>\n",
       "      <td>toe</td>\n",
       "      <td>1.610852</td>\n",
       "    </tr>\n",
       "  </tbody>\n",
       "</table>\n",
       "</div>"
      ],
      "text/plain": [
       "        injury      count\n",
       "0        ankle  19.542179\n",
       "1         knee  18.715557\n",
       "2         back   6.464604\n",
       "3     shoulder   5.192878\n",
       "4      illness   4.959729\n",
       "5         foot   4.514625\n",
       "6    hamstring   4.154303\n",
       "7          hip   3.666808\n",
       "8   concussion   3.221704\n",
       "9        groin   3.115727\n",
       "10      finger   2.013565\n",
       "11        calf   1.971174\n",
       "12       wrist   1.928783\n",
       "13        hand   1.844002\n",
       "14  quadriceps   1.738025\n",
       "15    achilles   1.716829\n",
       "16         toe   1.610852"
      ]
     },
     "execution_count": 14,
     "metadata": {},
     "output_type": "execute_result"
    }
   ],
   "source": [
    "counts_basket.head(17).reset_index()"
   ]
  },
  {
   "attachments": {},
   "cell_type": "markdown",
   "id": "30f1ebb1-8894-4f66-bbab-9965c36bfa4d",
   "metadata": {
    "tags": []
   },
   "source": [
    "<h2 style=\"color: #008080;\">Plotting the data</h2>"
   ]
  },
  {
   "cell_type": "code",
   "execution_count": 19,
   "id": "d6b79aaa-efcd-4293-a635-eb1527114ca9",
   "metadata": {},
   "outputs": [],
   "source": [
    "import matplotlib.pyplot as plt \n",
    "import seaborn as sns"
   ]
  },
  {
   "cell_type": "markdown",
   "id": "086d6b9d-eb3c-4819-b91e-44d96df63772",
   "metadata": {},
   "source": [
    "#### We need to transform the Panda Series to a Dataframe"
   ]
  },
  {
   "cell_type": "code",
   "execution_count": 16,
   "id": "508ea707-4973-4075-a89d-a88d2a6778aa",
   "metadata": {},
   "outputs": [],
   "source": [
    "df_counts_soccer=counts_soccer.to_frame()"
   ]
  },
  {
   "cell_type": "code",
   "execution_count": 17,
   "id": "dc000418-ad26-40e5-9263-d4be7af05cd0",
   "metadata": {},
   "outputs": [
    {
     "data": {
      "image/png": "[encoded data removed]",
      "text/plain": [
       "<Figure size 640x480 with 1 Axes>"
      ]
     },
     "metadata": {},
     "output_type": "display_data"
    }
   ],
   "source": [
    "sns.barplot(x='injury', y='count', data=df_counts_soccer)\n",
    "plt.xticks(rotation=-45, ha=\"left\")\n",
    "plt.show()"
   ]
  },
  {
   "cell_type": "markdown",
   "id": "1e308765-f98e-4e38-8a83-bdb8c1f32d5c",
   "metadata": {},
   "source": [
    "We filter just the 7 most common injury types columns"
   ]
  },
  {
   "cell_type": "code",
   "execution_count": 18,
   "id": "e6db1d9c-ab60-42c7-8df9-c4f04f8e4973",
   "metadata": {},
   "outputs": [],
   "source": [
    "df_counts_soccer_filtered=df_counts_soccer.iloc[:7]"
   ]
  },
  {
   "cell_type": "code",
   "execution_count": 21,
   "id": "1cfa7a77-a988-4a29-a0b6-5e2d421157d0",
   "metadata": {},
   "outputs": [],
   "source": [
    "df_counts_basket=counts_basket.to_frame()"
   ]
  },
  {
   "cell_type": "code",
   "execution_count": 22,
   "id": "78f96844-0701-4cb4-ba24-b2c5f1556930",
   "metadata": {},
   "outputs": [
    {
     "data": {
      "image/png": "[encoded data removed]",
      "text/plain": [
       "<Figure size 640x480 with 1 Axes>"
      ]
     },
     "metadata": {},
     "output_type": "display_data"
    }
   ],
   "source": [
    "sns.barplot(x='injury', y='count', data=df_counts_basket,color=\"sandybrown\")\n",
    "plt.xticks(rotation=-45, ha=\"left\")\n",
    "plt.show()"
   ]
  },
  {
   "cell_type": "code",
   "execution_count": 24,
   "id": "aee0ee58-ffc3-412c-96a4-acba954b11f3",
   "metadata": {},
   "outputs": [],
   "source": [
    "df_counts_basket_filtered=df_counts_basket.iloc[:30]"
   ]
  },
  {
   "cell_type": "code",
   "execution_count": 25,
   "id": "834e99cc-9237-4244-8c99-0f36429e5d5d",
   "metadata": {},
   "outputs": [
    {
     "data": {
      "image/png": "[encoded data removed]",
      "text/plain": [
       "<Figure size 640x480 with 1 Axes>"
      ]
     },
     "metadata": {},
     "output_type": "display_data"
    }
   ],
   "source": [
    "sns.barplot(x='injury', y='count', data=df_counts_basket_filtered,color=\"sandybrown\")\n",
    "plt.xticks(rotation=-45, ha=\"left\")\n",
    "plt.show()"
   ]
  }
 ],
 "metadata": {
  "kernelspec": {
   "display_name": "base",
   "language": "python",
   "name": "python3"
  },
  "language_info": {
   "codemirror_mode": {
    "name": "ipython",
    "version": 3
   },
   "file_extension": ".py",
   "mimetype": "text/x-python",
   "name": "python",
   "nbconvert_exporter": "python",
   "pygments_lexer": "ipython3",
   "version": "3.12.4"
  }
 },
 "nbformat": 4,
 "nbformat_minor": 5
}
